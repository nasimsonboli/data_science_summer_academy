{
 "cells": [
  {
   "cell_type": "markdown",
   "metadata": {},
   "source": [
    "## K nearest neighbors retrieval"
   ]
  },
  {
   "cell_type": "markdown",
   "metadata": {},
   "source": [
    "### Import Libraries"
   ]
  },
  {
   "cell_type": "code",
   "execution_count": 73,
   "metadata": {
    "collapsed": true
   },
   "outputs": [],
   "source": [
    "import pandas as pd\n",
    "import numpy as np\n",
    "%run KNN_functions.ipynb"
   ]
  },
  {
   "cell_type": "markdown",
   "metadata": {},
   "source": [
    "### Importing Spotify Data"
   ]
  },
  {
   "cell_type": "code",
   "execution_count": 74,
   "metadata": {},
   "outputs": [
    {
     "data": {
      "text/plain": [
       "(1420, 18)"
      ]
     },
     "execution_count": 74,
     "metadata": {},
     "output_type": "execute_result"
    }
   ],
   "source": [
    "spotify_df = pd.read_csv('http://bmobasher.com/Class/Spotify_Combined.csv', index_col=0)\n",
    "\n",
    "spotify_df.shape"
   ]
  },
  {
   "cell_type": "markdown",
   "metadata": {},
   "source": [
    "### Print 10 rows of the data"
   ]
  },
  {
   "cell_type": "code",
   "execution_count": 75,
   "metadata": {},
   "outputs": [
    {
     "data": {
      "text/html": [
       "<div>\n",
       "<style>\n",
       "    .dataframe thead tr:only-child th {\n",
       "        text-align: right;\n",
       "    }\n",
       "\n",
       "    .dataframe thead th {\n",
       "        text-align: left;\n",
       "    }\n",
       "\n",
       "    .dataframe tbody tr th {\n",
       "        vertical-align: top;\n",
       "    }\n",
       "</style>\n",
       "<table border=\"1\" class=\"dataframe\">\n",
       "  <thead>\n",
       "    <tr style=\"text-align: right;\">\n",
       "      <th></th>\n",
       "      <th>id</th>\n",
       "      <th>name</th>\n",
       "      <th>uri</th>\n",
       "      <th>artist</th>\n",
       "      <th>acousticness</th>\n",
       "      <th>danceability</th>\n",
       "      <th>duration_ms</th>\n",
       "      <th>energy</th>\n",
       "      <th>instrumentalness</th>\n",
       "      <th>key</th>\n",
       "      <th>liveness</th>\n",
       "      <th>loudness</th>\n",
       "      <th>mode</th>\n",
       "      <th>speechiness</th>\n",
       "      <th>tempo</th>\n",
       "      <th>time_signature</th>\n",
       "      <th>valence</th>\n",
       "      <th>mood(s)</th>\n",
       "    </tr>\n",
       "    <tr>\n",
       "      <th>index</th>\n",
       "      <th></th>\n",
       "      <th></th>\n",
       "      <th></th>\n",
       "      <th></th>\n",
       "      <th></th>\n",
       "      <th></th>\n",
       "      <th></th>\n",
       "      <th></th>\n",
       "      <th></th>\n",
       "      <th></th>\n",
       "      <th></th>\n",
       "      <th></th>\n",
       "      <th></th>\n",
       "      <th></th>\n",
       "      <th></th>\n",
       "      <th></th>\n",
       "      <th></th>\n",
       "      <th></th>\n",
       "    </tr>\n",
       "  </thead>\n",
       "  <tbody>\n",
       "    <tr>\n",
       "      <th>0</th>\n",
       "      <td>4dn6rw5Ze1uWrLm1uOk1gu</td>\n",
       "      <td>Stockholm Sweetnin'</td>\n",
       "      <td>spotify:track:4dn6rw5Ze1uWrLm1uOk1gu</td>\n",
       "      <td>Scott Hamilton, Jesper Lundgaard, Jan Lundgren...</td>\n",
       "      <td>0.838</td>\n",
       "      <td>0.602</td>\n",
       "      <td>475680</td>\n",
       "      <td>0.302</td>\n",
       "      <td>0.9070</td>\n",
       "      <td>8</td>\n",
       "      <td>0.1130</td>\n",
       "      <td>-11.627</td>\n",
       "      <td>1</td>\n",
       "      <td>0.0427</td>\n",
       "      <td>119.758</td>\n",
       "      <td>4</td>\n",
       "      <td>0.300</td>\n",
       "      <td>dinner</td>\n",
       "    </tr>\n",
       "    <tr>\n",
       "      <th>1</th>\n",
       "      <td>6CDQBADsdzJwc3qZ3OPDHH</td>\n",
       "      <td>Almost Like Being in Love</td>\n",
       "      <td>spotify:track:6CDQBADsdzJwc3qZ3OPDHH</td>\n",
       "      <td>Red Garland, Paul Chambers, Art Taylor,</td>\n",
       "      <td>0.873</td>\n",
       "      <td>0.571</td>\n",
       "      <td>290293</td>\n",
       "      <td>0.346</td>\n",
       "      <td>0.5190</td>\n",
       "      <td>0</td>\n",
       "      <td>0.0980</td>\n",
       "      <td>-12.569</td>\n",
       "      <td>0</td>\n",
       "      <td>0.0409</td>\n",
       "      <td>93.885</td>\n",
       "      <td>4</td>\n",
       "      <td>0.687</td>\n",
       "      <td>dinner</td>\n",
       "    </tr>\n",
       "    <tr>\n",
       "      <th>2</th>\n",
       "      <td>00CIFNT8kOm61dupysBFp8</td>\n",
       "      <td>Garden of Delight</td>\n",
       "      <td>spotify:track:00CIFNT8kOm61dupysBFp8</td>\n",
       "      <td>Jan Lundgren Trio,</td>\n",
       "      <td>0.876</td>\n",
       "      <td>0.427</td>\n",
       "      <td>291862</td>\n",
       "      <td>0.287</td>\n",
       "      <td>0.8740</td>\n",
       "      <td>11</td>\n",
       "      <td>0.1330</td>\n",
       "      <td>-19.834</td>\n",
       "      <td>1</td>\n",
       "      <td>0.0346</td>\n",
       "      <td>104.407</td>\n",
       "      <td>4</td>\n",
       "      <td>0.467</td>\n",
       "      <td>dinner</td>\n",
       "    </tr>\n",
       "    <tr>\n",
       "      <th>3</th>\n",
       "      <td>2z6D5bIA9Wprdqi1B8nnVh</td>\n",
       "      <td>New Orleans</td>\n",
       "      <td>spotify:track:2z6D5bIA9Wprdqi1B8nnVh</td>\n",
       "      <td>Wynton Marsalis,</td>\n",
       "      <td>0.714</td>\n",
       "      <td>0.644</td>\n",
       "      <td>340693</td>\n",
       "      <td>0.205</td>\n",
       "      <td>0.0482</td>\n",
       "      <td>10</td>\n",
       "      <td>0.0510</td>\n",
       "      <td>-16.005</td>\n",
       "      <td>1</td>\n",
       "      <td>0.0397</td>\n",
       "      <td>118.314</td>\n",
       "      <td>4</td>\n",
       "      <td>0.411</td>\n",
       "      <td>dinner</td>\n",
       "    </tr>\n",
       "    <tr>\n",
       "      <th>4</th>\n",
       "      <td>1ykNjOQbYJgZE3pflVB9MN</td>\n",
       "      <td>The Sequel</td>\n",
       "      <td>spotify:track:1ykNjOQbYJgZE3pflVB9MN</td>\n",
       "      <td>Wingspan,</td>\n",
       "      <td>0.703</td>\n",
       "      <td>0.532</td>\n",
       "      <td>482360</td>\n",
       "      <td>0.364</td>\n",
       "      <td>0.6180</td>\n",
       "      <td>9</td>\n",
       "      <td>0.0602</td>\n",
       "      <td>-13.068</td>\n",
       "      <td>0</td>\n",
       "      <td>0.0297</td>\n",
       "      <td>127.166</td>\n",
       "      <td>4</td>\n",
       "      <td>0.271</td>\n",
       "      <td>dinner</td>\n",
       "    </tr>\n",
       "  </tbody>\n",
       "</table>\n",
       "</div>"
      ],
      "text/plain": [
       "                           id                       name  \\\n",
       "index                                                      \n",
       "0      4dn6rw5Ze1uWrLm1uOk1gu        Stockholm Sweetnin'   \n",
       "1      6CDQBADsdzJwc3qZ3OPDHH  Almost Like Being in Love   \n",
       "2      00CIFNT8kOm61dupysBFp8          Garden of Delight   \n",
       "3      2z6D5bIA9Wprdqi1B8nnVh                New Orleans   \n",
       "4      1ykNjOQbYJgZE3pflVB9MN                 The Sequel   \n",
       "\n",
       "                                        uri  \\\n",
       "index                                         \n",
       "0      spotify:track:4dn6rw5Ze1uWrLm1uOk1gu   \n",
       "1      spotify:track:6CDQBADsdzJwc3qZ3OPDHH   \n",
       "2      spotify:track:00CIFNT8kOm61dupysBFp8   \n",
       "3      spotify:track:2z6D5bIA9Wprdqi1B8nnVh   \n",
       "4      spotify:track:1ykNjOQbYJgZE3pflVB9MN   \n",
       "\n",
       "                                                  artist  acousticness  \\\n",
       "index                                                                    \n",
       "0      Scott Hamilton, Jesper Lundgaard, Jan Lundgren...         0.838   \n",
       "1               Red Garland, Paul Chambers, Art Taylor,          0.873   \n",
       "2                                    Jan Lundgren Trio,          0.876   \n",
       "3                                      Wynton Marsalis,          0.714   \n",
       "4                                             Wingspan,          0.703   \n",
       "\n",
       "       danceability  duration_ms  energy  instrumentalness  key  liveness  \\\n",
       "index                                                                       \n",
       "0             0.602       475680   0.302            0.9070    8    0.1130   \n",
       "1             0.571       290293   0.346            0.5190    0    0.0980   \n",
       "2             0.427       291862   0.287            0.8740   11    0.1330   \n",
       "3             0.644       340693   0.205            0.0482   10    0.0510   \n",
       "4             0.532       482360   0.364            0.6180    9    0.0602   \n",
       "\n",
       "       loudness  mode  speechiness    tempo  time_signature  valence mood(s)  \n",
       "index                                                                         \n",
       "0       -11.627     1       0.0427  119.758               4    0.300  dinner  \n",
       "1       -12.569     0       0.0409   93.885               4    0.687  dinner  \n",
       "2       -19.834     1       0.0346  104.407               4    0.467  dinner  \n",
       "3       -16.005     1       0.0397  118.314               4    0.411  dinner  \n",
       "4       -13.068     0       0.0297  127.166               4    0.271  dinner  "
      ]
     },
     "execution_count": 75,
     "metadata": {},
     "output_type": "execute_result"
    }
   ],
   "source": [
    "spotify_df.head()"
   ]
  },
  {
   "cell_type": "markdown",
   "metadata": {},
   "source": [
    "### The describe() method provides a detailed description of variables:"
   ]
  },
  {
   "cell_type": "code",
   "execution_count": 76,
   "metadata": {},
   "outputs": [
    {
     "data": {
      "text/html": [
       "<div>\n",
       "<style>\n",
       "    .dataframe thead tr:only-child th {\n",
       "        text-align: right;\n",
       "    }\n",
       "\n",
       "    .dataframe thead th {\n",
       "        text-align: left;\n",
       "    }\n",
       "\n",
       "    .dataframe tbody tr th {\n",
       "        vertical-align: top;\n",
       "    }\n",
       "</style>\n",
       "<table border=\"1\" class=\"dataframe\">\n",
       "  <thead>\n",
       "    <tr style=\"text-align: right;\">\n",
       "      <th></th>\n",
       "      <th>id</th>\n",
       "      <th>name</th>\n",
       "      <th>uri</th>\n",
       "      <th>artist</th>\n",
       "      <th>acousticness</th>\n",
       "      <th>danceability</th>\n",
       "      <th>duration_ms</th>\n",
       "      <th>energy</th>\n",
       "      <th>instrumentalness</th>\n",
       "      <th>key</th>\n",
       "      <th>liveness</th>\n",
       "      <th>loudness</th>\n",
       "      <th>mode</th>\n",
       "      <th>speechiness</th>\n",
       "      <th>tempo</th>\n",
       "      <th>time_signature</th>\n",
       "      <th>valence</th>\n",
       "      <th>mood(s)</th>\n",
       "    </tr>\n",
       "  </thead>\n",
       "  <tbody>\n",
       "    <tr>\n",
       "      <th>count</th>\n",
       "      <td>1420</td>\n",
       "      <td>1420</td>\n",
       "      <td>1420</td>\n",
       "      <td>1420</td>\n",
       "      <td>1420.000000</td>\n",
       "      <td>1420.000000</td>\n",
       "      <td>1.420000e+03</td>\n",
       "      <td>1420.000000</td>\n",
       "      <td>1420.000000</td>\n",
       "      <td>1420.000000</td>\n",
       "      <td>1420.000000</td>\n",
       "      <td>1420.000000</td>\n",
       "      <td>1420.000000</td>\n",
       "      <td>1420.000000</td>\n",
       "      <td>1420.000000</td>\n",
       "      <td>1420.000000</td>\n",
       "      <td>1420.000000</td>\n",
       "      <td>1420</td>\n",
       "    </tr>\n",
       "    <tr>\n",
       "      <th>unique</th>\n",
       "      <td>1420</td>\n",
       "      <td>1378</td>\n",
       "      <td>1420</td>\n",
       "      <td>1160</td>\n",
       "      <td>NaN</td>\n",
       "      <td>NaN</td>\n",
       "      <td>NaN</td>\n",
       "      <td>NaN</td>\n",
       "      <td>NaN</td>\n",
       "      <td>NaN</td>\n",
       "      <td>NaN</td>\n",
       "      <td>NaN</td>\n",
       "      <td>NaN</td>\n",
       "      <td>NaN</td>\n",
       "      <td>NaN</td>\n",
       "      <td>NaN</td>\n",
       "      <td>NaN</td>\n",
       "      <td>7</td>\n",
       "    </tr>\n",
       "    <tr>\n",
       "      <th>top</th>\n",
       "      <td>0HrrWZIJ7hR7C0JmDZ2uvN</td>\n",
       "      <td>The Greatest</td>\n",
       "      <td>spotify:track:5AdFDzY5KY8RehHWVL0010</td>\n",
       "      <td>Nature Sounds,</td>\n",
       "      <td>NaN</td>\n",
       "      <td>NaN</td>\n",
       "      <td>NaN</td>\n",
       "      <td>NaN</td>\n",
       "      <td>NaN</td>\n",
       "      <td>NaN</td>\n",
       "      <td>NaN</td>\n",
       "      <td>NaN</td>\n",
       "      <td>NaN</td>\n",
       "      <td>NaN</td>\n",
       "      <td>NaN</td>\n",
       "      <td>NaN</td>\n",
       "      <td>NaN</td>\n",
       "      <td>dinner</td>\n",
       "    </tr>\n",
       "    <tr>\n",
       "      <th>freq</th>\n",
       "      <td>1</td>\n",
       "      <td>3</td>\n",
       "      <td>1</td>\n",
       "      <td>12</td>\n",
       "      <td>NaN</td>\n",
       "      <td>NaN</td>\n",
       "      <td>NaN</td>\n",
       "      <td>NaN</td>\n",
       "      <td>NaN</td>\n",
       "      <td>NaN</td>\n",
       "      <td>NaN</td>\n",
       "      <td>NaN</td>\n",
       "      <td>NaN</td>\n",
       "      <td>NaN</td>\n",
       "      <td>NaN</td>\n",
       "      <td>NaN</td>\n",
       "      <td>NaN</td>\n",
       "      <td>467</td>\n",
       "    </tr>\n",
       "    <tr>\n",
       "      <th>mean</th>\n",
       "      <td>NaN</td>\n",
       "      <td>NaN</td>\n",
       "      <td>NaN</td>\n",
       "      <td>NaN</td>\n",
       "      <td>0.399612</td>\n",
       "      <td>0.556092</td>\n",
       "      <td>2.834115e+05</td>\n",
       "      <td>0.554682</td>\n",
       "      <td>0.280521</td>\n",
       "      <td>5.138732</td>\n",
       "      <td>0.191559</td>\n",
       "      <td>-10.738530</td>\n",
       "      <td>0.588028</td>\n",
       "      <td>0.082647</td>\n",
       "      <td>116.857767</td>\n",
       "      <td>3.890845</td>\n",
       "      <td>0.398186</td>\n",
       "      <td>NaN</td>\n",
       "    </tr>\n",
       "    <tr>\n",
       "      <th>std</th>\n",
       "      <td>NaN</td>\n",
       "      <td>NaN</td>\n",
       "      <td>NaN</td>\n",
       "      <td>NaN</td>\n",
       "      <td>0.381397</td>\n",
       "      <td>0.189472</td>\n",
       "      <td>3.371891e+05</td>\n",
       "      <td>0.294056</td>\n",
       "      <td>0.392521</td>\n",
       "      <td>3.565522</td>\n",
       "      <td>0.165740</td>\n",
       "      <td>7.986422</td>\n",
       "      <td>0.492363</td>\n",
       "      <td>0.082892</td>\n",
       "      <td>27.948877</td>\n",
       "      <td>0.483761</td>\n",
       "      <td>0.258262</td>\n",
       "      <td>NaN</td>\n",
       "    </tr>\n",
       "    <tr>\n",
       "      <th>min</th>\n",
       "      <td>NaN</td>\n",
       "      <td>NaN</td>\n",
       "      <td>NaN</td>\n",
       "      <td>NaN</td>\n",
       "      <td>0.000023</td>\n",
       "      <td>0.058500</td>\n",
       "      <td>5.433300e+04</td>\n",
       "      <td>0.001540</td>\n",
       "      <td>0.000000</td>\n",
       "      <td>0.000000</td>\n",
       "      <td>0.022700</td>\n",
       "      <td>-41.808000</td>\n",
       "      <td>0.000000</td>\n",
       "      <td>0.022900</td>\n",
       "      <td>52.799000</td>\n",
       "      <td>1.000000</td>\n",
       "      <td>0.000010</td>\n",
       "      <td>NaN</td>\n",
       "    </tr>\n",
       "    <tr>\n",
       "      <th>25%</th>\n",
       "      <td>NaN</td>\n",
       "      <td>NaN</td>\n",
       "      <td>NaN</td>\n",
       "      <td>NaN</td>\n",
       "      <td>0.031525</td>\n",
       "      <td>0.447750</td>\n",
       "      <td>1.961372e+05</td>\n",
       "      <td>0.317750</td>\n",
       "      <td>0.000001</td>\n",
       "      <td>2.000000</td>\n",
       "      <td>0.096675</td>\n",
       "      <td>-14.406000</td>\n",
       "      <td>0.000000</td>\n",
       "      <td>0.037000</td>\n",
       "      <td>95.055250</td>\n",
       "      <td>4.000000</td>\n",
       "      <td>0.186750</td>\n",
       "      <td>NaN</td>\n",
       "    </tr>\n",
       "    <tr>\n",
       "      <th>50%</th>\n",
       "      <td>NaN</td>\n",
       "      <td>NaN</td>\n",
       "      <td>NaN</td>\n",
       "      <td>NaN</td>\n",
       "      <td>0.265000</td>\n",
       "      <td>0.588000</td>\n",
       "      <td>2.268000e+05</td>\n",
       "      <td>0.596500</td>\n",
       "      <td>0.002075</td>\n",
       "      <td>5.000000</td>\n",
       "      <td>0.121000</td>\n",
       "      <td>-7.811000</td>\n",
       "      <td>1.000000</td>\n",
       "      <td>0.048750</td>\n",
       "      <td>118.016500</td>\n",
       "      <td>4.000000</td>\n",
       "      <td>0.364500</td>\n",
       "      <td>NaN</td>\n",
       "    </tr>\n",
       "    <tr>\n",
       "      <th>75%</th>\n",
       "      <td>NaN</td>\n",
       "      <td>NaN</td>\n",
       "      <td>NaN</td>\n",
       "      <td>NaN</td>\n",
       "      <td>0.815000</td>\n",
       "      <td>0.691000</td>\n",
       "      <td>2.745168e+05</td>\n",
       "      <td>0.801000</td>\n",
       "      <td>0.795500</td>\n",
       "      <td>8.000000</td>\n",
       "      <td>0.231250</td>\n",
       "      <td>-5.034500</td>\n",
       "      <td>1.000000</td>\n",
       "      <td>0.081425</td>\n",
       "      <td>131.499500</td>\n",
       "      <td>4.000000</td>\n",
       "      <td>0.588000</td>\n",
       "      <td>NaN</td>\n",
       "    </tr>\n",
       "    <tr>\n",
       "      <th>max</th>\n",
       "      <td>NaN</td>\n",
       "      <td>NaN</td>\n",
       "      <td>NaN</td>\n",
       "      <td>NaN</td>\n",
       "      <td>0.996000</td>\n",
       "      <td>0.967000</td>\n",
       "      <td>4.500037e+06</td>\n",
       "      <td>1.000000</td>\n",
       "      <td>0.996000</td>\n",
       "      <td>11.000000</td>\n",
       "      <td>0.979000</td>\n",
       "      <td>-0.750000</td>\n",
       "      <td>1.000000</td>\n",
       "      <td>0.520000</td>\n",
       "      <td>213.973000</td>\n",
       "      <td>5.000000</td>\n",
       "      <td>0.974000</td>\n",
       "      <td>NaN</td>\n",
       "    </tr>\n",
       "  </tbody>\n",
       "</table>\n",
       "</div>"
      ],
      "text/plain": [
       "                            id          name  \\\n",
       "count                     1420          1420   \n",
       "unique                    1420          1378   \n",
       "top     0HrrWZIJ7hR7C0JmDZ2uvN  The Greatest   \n",
       "freq                         1             3   \n",
       "mean                       NaN           NaN   \n",
       "std                        NaN           NaN   \n",
       "min                        NaN           NaN   \n",
       "25%                        NaN           NaN   \n",
       "50%                        NaN           NaN   \n",
       "75%                        NaN           NaN   \n",
       "max                        NaN           NaN   \n",
       "\n",
       "                                         uri           artist  acousticness  \\\n",
       "count                                   1420             1420   1420.000000   \n",
       "unique                                  1420             1160           NaN   \n",
       "top     spotify:track:5AdFDzY5KY8RehHWVL0010  Nature Sounds,            NaN   \n",
       "freq                                       1               12           NaN   \n",
       "mean                                     NaN              NaN      0.399612   \n",
       "std                                      NaN              NaN      0.381397   \n",
       "min                                      NaN              NaN      0.000023   \n",
       "25%                                      NaN              NaN      0.031525   \n",
       "50%                                      NaN              NaN      0.265000   \n",
       "75%                                      NaN              NaN      0.815000   \n",
       "max                                      NaN              NaN      0.996000   \n",
       "\n",
       "        danceability   duration_ms       energy  instrumentalness  \\\n",
       "count    1420.000000  1.420000e+03  1420.000000       1420.000000   \n",
       "unique           NaN           NaN          NaN               NaN   \n",
       "top              NaN           NaN          NaN               NaN   \n",
       "freq             NaN           NaN          NaN               NaN   \n",
       "mean        0.556092  2.834115e+05     0.554682          0.280521   \n",
       "std         0.189472  3.371891e+05     0.294056          0.392521   \n",
       "min         0.058500  5.433300e+04     0.001540          0.000000   \n",
       "25%         0.447750  1.961372e+05     0.317750          0.000001   \n",
       "50%         0.588000  2.268000e+05     0.596500          0.002075   \n",
       "75%         0.691000  2.745168e+05     0.801000          0.795500   \n",
       "max         0.967000  4.500037e+06     1.000000          0.996000   \n",
       "\n",
       "                key     liveness     loudness         mode  speechiness  \\\n",
       "count   1420.000000  1420.000000  1420.000000  1420.000000  1420.000000   \n",
       "unique          NaN          NaN          NaN          NaN          NaN   \n",
       "top             NaN          NaN          NaN          NaN          NaN   \n",
       "freq            NaN          NaN          NaN          NaN          NaN   \n",
       "mean       5.138732     0.191559   -10.738530     0.588028     0.082647   \n",
       "std        3.565522     0.165740     7.986422     0.492363     0.082892   \n",
       "min        0.000000     0.022700   -41.808000     0.000000     0.022900   \n",
       "25%        2.000000     0.096675   -14.406000     0.000000     0.037000   \n",
       "50%        5.000000     0.121000    -7.811000     1.000000     0.048750   \n",
       "75%        8.000000     0.231250    -5.034500     1.000000     0.081425   \n",
       "max       11.000000     0.979000    -0.750000     1.000000     0.520000   \n",
       "\n",
       "              tempo  time_signature      valence mood(s)  \n",
       "count   1420.000000     1420.000000  1420.000000    1420  \n",
       "unique          NaN             NaN          NaN       7  \n",
       "top             NaN             NaN          NaN  dinner  \n",
       "freq            NaN             NaN          NaN     467  \n",
       "mean     116.857767        3.890845     0.398186     NaN  \n",
       "std       27.948877        0.483761     0.258262     NaN  \n",
       "min       52.799000        1.000000     0.000010     NaN  \n",
       "25%       95.055250        4.000000     0.186750     NaN  \n",
       "50%      118.016500        4.000000     0.364500     NaN  \n",
       "75%      131.499500        4.000000     0.588000     NaN  \n",
       "max      213.973000        5.000000     0.974000     NaN  "
      ]
     },
     "execution_count": 76,
     "metadata": {},
     "output_type": "execute_result"
    }
   ],
   "source": [
    "spotify_df.describe(include=\"all\")"
   ]
  },
  {
   "cell_type": "markdown",
   "metadata": {},
   "source": [
    "### getting rid of the missing values."
   ]
  },
  {
   "cell_type": "code",
   "execution_count": 77,
   "metadata": {
    "collapsed": true
   },
   "outputs": [],
   "source": [
    "spotify_df.dropna(axis=0, inplace=True)"
   ]
  },
  {
   "cell_type": "markdown",
   "metadata": {},
   "source": [
    "### how many rows and columns does the data have?"
   ]
  },
  {
   "cell_type": "code",
   "execution_count": 78,
   "metadata": {},
   "outputs": [
    {
     "data": {
      "text/plain": [
       "(1420, 18)"
      ]
     },
     "execution_count": 78,
     "metadata": {},
     "output_type": "execute_result"
    }
   ],
   "source": [
    "spotify_df.shape"
   ]
  },
  {
   "cell_type": "markdown",
   "metadata": {},
   "source": [
    "### Performing Data Normalization to rescale numeric values"
   ]
  },
  {
   "cell_type": "markdown",
   "metadata": {},
   "source": [
    "#### Selecting only the numerical values"
   ]
  },
  {
   "cell_type": "code",
   "execution_count": 79,
   "metadata": {
    "collapsed": true
   },
   "outputs": [],
   "source": [
    "spotify_df_mainfeatures = spotify_df[['acousticness','danceability','duration_ms','energy',\n",
    "                                      'instrumentalness','key','liveness', 'loudness','mode',\n",
    "                                      'speechiness','tempo','time_signature','valence']]"
   ]
  },
  {
   "cell_type": "markdown",
   "metadata": {},
   "source": [
    "### normalized the data using the normalize() function."
   ]
  },
  {
   "cell_type": "code",
   "execution_count": 80,
   "metadata": {
    "collapsed": true
   },
   "outputs": [],
   "source": [
    "normalized_data = normalize(spotify_df_mainfeatures)"
   ]
  },
  {
   "cell_type": "markdown",
   "metadata": {},
   "source": [
    "### Print the top n records to see the result"
   ]
  },
  {
   "cell_type": "code",
   "execution_count": 81,
   "metadata": {},
   "outputs": [
    {
     "name": "stdout",
     "output_type": "stream",
     "text": [
      "   acousticness  danceability  duration_ms    energy  instrumentalness  \\\n",
      "0      0.841362      0.598239     0.094776  0.300923          0.910643   \n",
      "1      0.876503      0.564117     0.053076  0.344991          0.521084   \n",
      "2      0.879515      0.405614     0.053429  0.285900          0.877510   \n",
      "3      0.716861      0.644469     0.064413  0.203774          0.048394   \n",
      "4      0.705817      0.521189     0.096279  0.363019          0.620482   \n",
      "\n",
      "        key  liveness  loudness  mode  speechiness     tempo  time_signature  \\\n",
      "0  0.727273  0.094426  0.735082   1.0     0.039831  0.415445            0.75   \n",
      "1  0.000000  0.078741  0.712139   0.0     0.036210  0.254917            0.75   \n",
      "2  1.000000  0.115340  0.535194   1.0     0.023537  0.320201            0.75   \n",
      "3  0.909091  0.029593  0.628452   1.0     0.033796  0.406486            0.75   \n",
      "4  0.818182  0.039214  0.699985   0.0     0.013679  0.461408            0.75   \n",
      "\n",
      "    valence  \n",
      "0  0.308001  \n",
      "1  0.705336  \n",
      "2  0.479461  \n",
      "3  0.421965  \n",
      "4  0.278227  \n"
     ]
    }
   ],
   "source": [
    "df = pd.DataFrame(normalized_data)\n",
    "df.columns = spotify_df_mainfeatures.columns.values\n",
    "\n",
    "print df.head()"
   ]
  },
  {
   "cell_type": "markdown",
   "metadata": {},
   "source": [
    "## Let's pick a song and see the top K similar songs to it!"
   ]
  },
  {
   "cell_type": "markdown",
   "metadata": {},
   "source": [
    "### Look in the data, choose a song and write the song id here"
   ]
  },
  {
   "cell_type": "code",
   "execution_count": 82,
   "metadata": {},
   "outputs": [
    {
     "data": {
      "text/html": [
       "<div>\n",
       "<style>\n",
       "    .dataframe thead tr:only-child th {\n",
       "        text-align: right;\n",
       "    }\n",
       "\n",
       "    .dataframe thead th {\n",
       "        text-align: left;\n",
       "    }\n",
       "\n",
       "    .dataframe tbody tr th {\n",
       "        vertical-align: top;\n",
       "    }\n",
       "</style>\n",
       "<table border=\"1\" class=\"dataframe\">\n",
       "  <thead>\n",
       "    <tr style=\"text-align: right;\">\n",
       "      <th></th>\n",
       "      <th>name</th>\n",
       "      <th>artist</th>\n",
       "      <th>uri</th>\n",
       "    </tr>\n",
       "    <tr>\n",
       "      <th>index</th>\n",
       "      <th></th>\n",
       "      <th></th>\n",
       "      <th></th>\n",
       "    </tr>\n",
       "  </thead>\n",
       "  <tbody>\n",
       "    <tr>\n",
       "      <th>1413</th>\n",
       "      <td>Crazy In Love</td>\n",
       "      <td>Beyoncé, JAY Z,</td>\n",
       "      <td>spotify:track:5IVuqXILoxVWvWEPm82Jxr</td>\n",
       "    </tr>\n",
       "  </tbody>\n",
       "</table>\n",
       "</div>"
      ],
      "text/plain": [
       "                name            artist                                   uri\n",
       "index                                                                       \n",
       "1413   Crazy In Love  Beyoncé, JAY Z,   spotify:track:5IVuqXILoxVWvWEPm82Jxr"
      ]
     },
     "execution_count": 82,
     "metadata": {},
     "output_type": "execute_result"
    }
   ],
   "source": [
    "show_me_the_song_name(song_id=1413,data=spotify_df)"
   ]
  },
  {
   "cell_type": "markdown",
   "metadata": {},
   "source": [
    "### How many similar songs to this song do you want?"
   ]
  },
  {
   "cell_type": "code",
   "execution_count": 83,
   "metadata": {
    "collapsed": true
   },
   "outputs": [],
   "source": [
    "K_nearest_neighbors = 5"
   ]
  },
  {
   "cell_type": "markdown",
   "metadata": {},
   "source": [
    "### The search function takes a music id, and searches for the K most similar items in the data. The function returns the indices of the K most similar neighbors and a list of their distances to the query object."
   ]
  },
  {
   "cell_type": "code",
   "execution_count": 84,
   "metadata": {
    "collapsed": true
   },
   "outputs": [],
   "source": [
    "nearest_neighbor_indices = knn_search(song_id=1390, data=normalized_data, K=K_nearest_neighbors)"
   ]
  },
  {
   "cell_type": "markdown",
   "metadata": {},
   "source": [
    "### Print indecies of those songs"
   ]
  },
  {
   "cell_type": "code",
   "execution_count": 85,
   "metadata": {},
   "outputs": [
    {
     "name": "stdout",
     "output_type": "stream",
     "text": [
      "[1391 1350  526 1103  514]\n"
     ]
    }
   ],
   "source": [
    "print nearest_neighbor_indices"
   ]
  },
  {
   "cell_type": "markdown",
   "metadata": {},
   "source": [
    "### What are their names? Are they really similar? Play it in spotify and see!"
   ]
  },
  {
   "cell_type": "code",
   "execution_count": 86,
   "metadata": {},
   "outputs": [
    {
     "data": {
      "text/html": [
       "<div>\n",
       "<style>\n",
       "    .dataframe thead tr:only-child th {\n",
       "        text-align: right;\n",
       "    }\n",
       "\n",
       "    .dataframe thead th {\n",
       "        text-align: left;\n",
       "    }\n",
       "\n",
       "    .dataframe tbody tr th {\n",
       "        vertical-align: top;\n",
       "    }\n",
       "</style>\n",
       "<table border=\"1\" class=\"dataframe\">\n",
       "  <thead>\n",
       "    <tr style=\"text-align: right;\">\n",
       "      <th></th>\n",
       "      <th>name</th>\n",
       "      <th>artist</th>\n",
       "      <th>uri</th>\n",
       "    </tr>\n",
       "    <tr>\n",
       "      <th>index</th>\n",
       "      <th></th>\n",
       "      <th></th>\n",
       "      <th></th>\n",
       "    </tr>\n",
       "  </thead>\n",
       "  <tbody>\n",
       "    <tr>\n",
       "      <th>514</th>\n",
       "      <td>All We Need feat. Shy Girls - Dzeko &amp; Torres R...</td>\n",
       "      <td>ODESZA,</td>\n",
       "      <td>spotify:track:1Nf0mk83xLd3CyL8ybd8vw</td>\n",
       "    </tr>\n",
       "    <tr>\n",
       "      <th>526</th>\n",
       "      <td>The Universe - Radio Edit</td>\n",
       "      <td>Lush &amp; Simon,</td>\n",
       "      <td>spotify:track:2uZElNH5HVuRQbWQCkLi8G</td>\n",
       "    </tr>\n",
       "    <tr>\n",
       "      <th>1103</th>\n",
       "      <td>Lockjaw</td>\n",
       "      <td>French Montana, Kodak Black,</td>\n",
       "      <td>spotify:track:7iaw359G2XT14uTfV9feip</td>\n",
       "    </tr>\n",
       "    <tr>\n",
       "      <th>1350</th>\n",
       "      <td>Crank It (feat. Lil' Jon)</td>\n",
       "      <td>Ghastly, Mija, Lil Jon,</td>\n",
       "      <td>spotify:track:5JUbszUDGbE2RUoJDsIXqk</td>\n",
       "    </tr>\n",
       "    <tr>\n",
       "      <th>1391</th>\n",
       "      <td>Bullet - Instant Karma Remix</td>\n",
       "      <td>Chelsea Lankes, Instant Karma,</td>\n",
       "      <td>spotify:track:6aFvJSvmAuTuQSPZwK8rrN</td>\n",
       "    </tr>\n",
       "  </tbody>\n",
       "</table>\n",
       "</div>"
      ],
      "text/plain": [
       "                                                    name  \\\n",
       "index                                                      \n",
       "514    All We Need feat. Shy Girls - Dzeko & Torres R...   \n",
       "526                            The Universe - Radio Edit   \n",
       "1103                                             Lockjaw   \n",
       "1350                           Crank It (feat. Lil' Jon)   \n",
       "1391                        Bullet - Instant Karma Remix   \n",
       "\n",
       "                                artist                                   uri  \n",
       "index                                                                         \n",
       "514                           ODESZA,   spotify:track:1Nf0mk83xLd3CyL8ybd8vw  \n",
       "526                     Lush & Simon,   spotify:track:2uZElNH5HVuRQbWQCkLi8G  \n",
       "1103     French Montana, Kodak Black,   spotify:track:7iaw359G2XT14uTfV9feip  \n",
       "1350          Ghastly, Mija, Lil Jon,   spotify:track:5JUbszUDGbE2RUoJDsIXqk  \n",
       "1391   Chelsea Lankes, Instant Karma,   spotify:track:6aFvJSvmAuTuQSPZwK8rrN  "
      ]
     },
     "execution_count": 86,
     "metadata": {},
     "output_type": "execute_result"
    }
   ],
   "source": [
    "show_me_song_names(spotify_df, nearest_neighbor_indices)"
   ]
  },
  {
   "cell_type": "markdown",
   "metadata": {},
   "source": [
    "### What do these songs have in common? Let's look at their features."
   ]
  },
  {
   "cell_type": "code",
   "execution_count": 89,
   "metadata": {},
   "outputs": [],
   "source": [
    "%run KNN_functions.ipynb\n",
    "features, feature_weights = get_features(spotify_df_mainfeatures, normalized_data, nearest_neighbor_indices)"
   ]
  },
  {
   "cell_type": "code",
   "execution_count": 92,
   "metadata": {},
   "outputs": [
    {
     "name": "stdout",
     "output_type": "stream",
     "text": [
      "['acousticness' 'danceability' 'duration_ms' 'energy' 'instrumentalness' 'key'\n",
      " 'liveness' 'loudness' 'mode' 'speechiness' 'tempo' 'time_signature' 'valence']\n"
     ]
    }
   ],
   "source": [
    "# print the feature names\n",
    "print features"
   ]
  },
  {
   "cell_type": "code",
   "execution_count": 93,
   "metadata": {},
   "outputs": [
    {
     "name": "stdout",
     "output_type": "stream",
     "text": [
      "[ 0.04  0.64  0.03  0.85  0.    0.71  0.27  0.93  1.    0.08  0.45  0.75  0.53]\n"
     ]
    }
   ],
   "source": [
    "# print their feature values, are they similar?\n",
    "print feature_weights"
   ]
  },
  {
   "cell_type": "markdown",
   "metadata": {},
   "source": [
    "### Create a wordcloud based on their features and feature values"
   ]
  },
  {
   "cell_type": "code",
   "execution_count": 94,
   "metadata": {},
   "outputs": [
    {
     "data": {
      "image/png": "[encoded data removed]",
      "text/plain": [
       "<matplotlib.figure.Figure at 0x110218ed0>"
      ]
     },
     "metadata": {},
     "output_type": "display_data"
    }
   ],
   "source": [
    "fig = create_wordcloud(features=features, feature_weights=feature_weights)"
   ]
  },
  {
   "cell_type": "markdown",
   "metadata": {},
   "source": [
    "### Save the picture, choose a name."
   ]
  },
  {
   "cell_type": "code",
   "execution_count": 95,
   "metadata": {
    "collapsed": true
   },
   "outputs": [],
   "source": [
    "fig.savefig(\"wordcloud_KNN_%d.png\" % K_nearest_neighbors, dpi=400)"
   ]
  },
  {
   "cell_type": "markdown",
   "metadata": {},
   "source": [
    "### Guess what class they belong to? Workout, Party, Dinner or Sleep?"
   ]
  },
  {
   "cell_type": "code",
   "execution_count": 97,
   "metadata": {},
   "outputs": [
    {
     "data": {
      "text/plain": [
       "index\n",
       "1391    workout\n",
       "1350    workout\n",
       "526       party\n",
       "1103    workout\n",
       "514       party\n",
       "Name: mood(s), dtype: object"
      ]
     },
     "execution_count": 97,
     "metadata": {},
     "output_type": "execute_result"
    }
   ],
   "source": [
    "spotify_df.loc[nearest_neighbor_indices,'mood(s)']"
   ]
  },
  {
   "cell_type": "code",
   "execution_count": null,
   "metadata": {
    "collapsed": true
   },
   "outputs": [],
   "source": []
  }
 ],
 "metadata": {
  "kernelspec": {
   "display_name": "Python 2",
   "language": "python",
   "name": "python2"
  },
  "language_info": {
   "codemirror_mode": {
    "name": "ipython",
    "version": 2
   },
   "file_extension": ".py",
   "mimetype": "text/x-python",
   "name": "python",
   "nbconvert_exporter": "python",
   "pygments_lexer": "ipython2",
   "version": "2.7.13"
  }
 },
 "nbformat": 4,
 "nbformat_minor": 2
}
