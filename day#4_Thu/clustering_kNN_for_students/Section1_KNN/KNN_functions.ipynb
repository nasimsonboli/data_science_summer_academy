{
 "cells": [
  {
   "cell_type": "code",
   "execution_count": 36,
   "metadata": {
    "collapsed": true
   },
   "outputs": [],
   "source": [
    "import numpy as np\n",
    "import pandas as pd\n",
    "import matplotlib.pyplot as plt\n",
    "%matplotlib inline\n",
    "from sklearn import preprocessing"
   ]
  },
  {
   "cell_type": "code",
   "execution_count": 37,
   "metadata": {
    "collapsed": true
   },
   "outputs": [],
   "source": [
    "np.set_printoptions(precision=2, linewidth=80, suppress=True)"
   ]
  },
  {
   "cell_type": "code",
   "execution_count": 38,
   "metadata": {
    "collapsed": true
   },
   "outputs": [],
   "source": [
    "def normalize(data):\n",
    "    # Fit() computes the min and max of each feature\n",
    "    min_max_scaler = preprocessing.MinMaxScaler().fit(data)\n",
    "    \n",
    "    # Scaling features of X according to feature_range.\n",
    "    spotify_df_normalized = min_max_scaler.transform(data)\n",
    "    \n",
    "    return spotify_df_normalized\n"
   ]
  },
  {
   "cell_type": "code",
   "execution_count": 43,
   "metadata": {
    "collapsed": true
   },
   "outputs": [],
   "source": [
    "# show me the name of the song\n",
    "def show_me_the_song_name(data, song_id):\n",
    "    return data.loc[data.index == song_id, ['name', 'artist', 'uri']]"
   ]
  },
  {
   "cell_type": "code",
   "execution_count": 40,
   "metadata": {
    "collapsed": true
   },
   "outputs": [],
   "source": [
    "def knn_search(song_id, data, K):\n",
    "    \"\"\" find K nearest neighbors of a song among the instances in the dataset \"\"\"\n",
    "\n",
    "    song = data[song_id]\n",
    "    data = np.delete(arr=data, obj=song_id, axis=0)\n",
    "    \n",
    "    data_norm = np.array([np.linalg.norm(data[i]) for i in range(len(data))])\n",
    "    song_norm = np.linalg.norm(song)\n",
    "    sims = np.dot(data,song)/(data_norm * song_norm)\n",
    "    dists = 1 - sims    \n",
    "    idx = np.argsort(dists) # sorting\n",
    "\n",
    "    return idx[:K]"
   ]
  },
  {
   "cell_type": "code",
   "execution_count": 41,
   "metadata": {
    "collapsed": true
   },
   "outputs": [],
   "source": [
    "def get_feature_weights(normalized_Data, nn_indices):\n",
    "    return normalized_Data[nn_indices.tolist(), :].mean(axis=0)"
   ]
  },
  {
   "cell_type": "code",
   "execution_count": 42,
   "metadata": {},
   "outputs": [],
   "source": [
    "from wordcloud import WordCloud, STOPWORDS, ImageColorGenerator\n",
    "from PIL import Image\n",
    "import urllib, cStringIO\n",
    "\n",
    "def create_wordcloud(features, feature_weights):\n",
    "    \n",
    "    words = {}\n",
    "    for i in range(len(features)):\n",
    "        words[features[i]] = feature_weights[i]\n",
    "\n",
    "    file = cStringIO.StringIO(urllib.urlopen(\"http://bmobasher.com/Class/cloud2.jpg\").read())\n",
    "    img = Image.open(file)\n",
    "    \n",
    "    alice_coloring = np.array(img)\n",
    "    \n",
    "    wc = WordCloud(background_color=\"white\", max_words=200, mask=alice_coloring, max_font_size=65, random_state=42)\n",
    "    # generate word cloud\n",
    "    wc.generate_from_frequencies(words)\n",
    "\n",
    "    # create coloring from image\n",
    "    image_colors = ImageColorGenerator(alice_coloring)\n",
    "\n",
    "    fig = plt.figure(1)\n",
    "    fig.set_figwidth(15)\n",
    "    fig.set_figheight(9)\n",
    "    plt.imshow(wc, interpolation=\"bilinear\")\n",
    "\n",
    "    plt.axis('off')\n",
    "    plt.show()\n",
    "    return fig"
   ]
  },
  {
   "cell_type": "code",
   "execution_count": null,
   "metadata": {
    "collapsed": true
   },
   "outputs": [],
   "source": []
  }
 ],
 "metadata": {
  "kernelspec": {
   "display_name": "Python 2",
   "language": "python",
   "name": "python2"
  },
  "language_info": {
   "codemirror_mode": {
    "name": "ipython",
    "version": 2
   },
   "file_extension": ".py",
   "mimetype": "text/x-python",
   "name": "python",
   "nbconvert_exporter": "python",
   "pygments_lexer": "ipython2",
   "version": "2.7.13"
  }
 },
 "nbformat": 4,
 "nbformat_minor": 2
}
