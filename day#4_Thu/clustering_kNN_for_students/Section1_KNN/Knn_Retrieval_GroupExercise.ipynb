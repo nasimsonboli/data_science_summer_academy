{
 "cells": [
  {
   "cell_type": "markdown",
   "metadata": {},
   "source": [
    "## Get together with your group, select a song you all like from a list and then use KNN to find the top K most similar songs and record their common features. Pick one of those K songs that you think is the best example and play the song."
   ]
  },
  {
   "cell_type": "markdown",
   "metadata": {},
   "source": [
    "## K nearest neighbors retrieval"
   ]
  },
  {
   "cell_type": "markdown",
   "metadata": {},
   "source": [
    "### Import Libraries"
   ]
  },
  {
   "cell_type": "code",
   "execution_count": 123,
   "metadata": {
    "collapsed": true
   },
   "outputs": [],
   "source": [
    "import pandas as pd\n",
    "import numpy as np\n",
    "%run KNN_functions.ipynb"
   ]
  },
  {
   "cell_type": "markdown",
   "metadata": {},
   "source": [
    "### Importing Spotify Data"
   ]
  },
  {
   "cell_type": "code",
   "execution_count": 131,
   "metadata": {},
   "outputs": [
    {
     "data": {
      "text/plain": [
       "(1420, 18)"
      ]
     },
     "execution_count": 131,
     "metadata": {},
     "output_type": "execute_result"
    }
   ],
   "source": [
    "spotify_df = pd.read_csv('http://bmobasher.com/Class/Spotify_Combined.csv', index_col=0)\n",
    "\n",
    "spotify_df.shape"
   ]
  },
  {
   "cell_type": "markdown",
   "metadata": {},
   "source": [
    "### The describe() method provides a detailed description of variables:"
   ]
  },
  {
   "cell_type": "code",
   "execution_count": 106,
   "metadata": {},
   "outputs": [
    {
     "data": {
      "text/html": [
       "<div>\n",
       "<style>\n",
       "    .dataframe thead tr:only-child th {\n",
       "        text-align: right;\n",
       "    }\n",
       "\n",
       "    .dataframe thead th {\n",
       "        text-align: left;\n",
       "    }\n",
       "\n",
       "    .dataframe tbody tr th {\n",
       "        vertical-align: top;\n",
       "    }\n",
       "</style>\n",
       "<table border=\"1\" class=\"dataframe\">\n",
       "  <thead>\n",
       "    <tr style=\"text-align: right;\">\n",
       "      <th></th>\n",
       "      <th>id</th>\n",
       "      <th>name</th>\n",
       "      <th>uri</th>\n",
       "      <th>artist</th>\n",
       "      <th>acousticness</th>\n",
       "      <th>danceability</th>\n",
       "      <th>duration_ms</th>\n",
       "      <th>energy</th>\n",
       "      <th>instrumentalness</th>\n",
       "      <th>key</th>\n",
       "      <th>liveness</th>\n",
       "      <th>loudness</th>\n",
       "      <th>mode</th>\n",
       "      <th>speechiness</th>\n",
       "      <th>tempo</th>\n",
       "      <th>time_signature</th>\n",
       "      <th>valence</th>\n",
       "      <th>mood(s)</th>\n",
       "    </tr>\n",
       "  </thead>\n",
       "  <tbody>\n",
       "    <tr>\n",
       "      <th>count</th>\n",
       "      <td>1420</td>\n",
       "      <td>1420</td>\n",
       "      <td>1420</td>\n",
       "      <td>1420</td>\n",
       "      <td>1420.000000</td>\n",
       "      <td>1420.000000</td>\n",
       "      <td>1.420000e+03</td>\n",
       "      <td>1420.000000</td>\n",
       "      <td>1420.000000</td>\n",
       "      <td>1420.000000</td>\n",
       "      <td>1420.000000</td>\n",
       "      <td>1420.000000</td>\n",
       "      <td>1420.000000</td>\n",
       "      <td>1420.000000</td>\n",
       "      <td>1420.000000</td>\n",
       "      <td>1420.000000</td>\n",
       "      <td>1420.000000</td>\n",
       "      <td>1420</td>\n",
       "    </tr>\n",
       "    <tr>\n",
       "      <th>unique</th>\n",
       "      <td>1420</td>\n",
       "      <td>1378</td>\n",
       "      <td>1420</td>\n",
       "      <td>1160</td>\n",
       "      <td>NaN</td>\n",
       "      <td>NaN</td>\n",
       "      <td>NaN</td>\n",
       "      <td>NaN</td>\n",
       "      <td>NaN</td>\n",
       "      <td>NaN</td>\n",
       "      <td>NaN</td>\n",
       "      <td>NaN</td>\n",
       "      <td>NaN</td>\n",
       "      <td>NaN</td>\n",
       "      <td>NaN</td>\n",
       "      <td>NaN</td>\n",
       "      <td>NaN</td>\n",
       "      <td>7</td>\n",
       "    </tr>\n",
       "    <tr>\n",
       "      <th>top</th>\n",
       "      <td>0HrrWZIJ7hR7C0JmDZ2uvN</td>\n",
       "      <td>The Greatest</td>\n",
       "      <td>spotify:track:5AdFDzY5KY8RehHWVL0010</td>\n",
       "      <td>Nature Sounds,</td>\n",
       "      <td>NaN</td>\n",
       "      <td>NaN</td>\n",
       "      <td>NaN</td>\n",
       "      <td>NaN</td>\n",
       "      <td>NaN</td>\n",
       "      <td>NaN</td>\n",
       "      <td>NaN</td>\n",
       "      <td>NaN</td>\n",
       "      <td>NaN</td>\n",
       "      <td>NaN</td>\n",
       "      <td>NaN</td>\n",
       "      <td>NaN</td>\n",
       "      <td>NaN</td>\n",
       "      <td>dinner</td>\n",
       "    </tr>\n",
       "    <tr>\n",
       "      <th>freq</th>\n",
       "      <td>1</td>\n",
       "      <td>3</td>\n",
       "      <td>1</td>\n",
       "      <td>12</td>\n",
       "      <td>NaN</td>\n",
       "      <td>NaN</td>\n",
       "      <td>NaN</td>\n",
       "      <td>NaN</td>\n",
       "      <td>NaN</td>\n",
       "      <td>NaN</td>\n",
       "      <td>NaN</td>\n",
       "      <td>NaN</td>\n",
       "      <td>NaN</td>\n",
       "      <td>NaN</td>\n",
       "      <td>NaN</td>\n",
       "      <td>NaN</td>\n",
       "      <td>NaN</td>\n",
       "      <td>467</td>\n",
       "    </tr>\n",
       "    <tr>\n",
       "      <th>mean</th>\n",
       "      <td>NaN</td>\n",
       "      <td>NaN</td>\n",
       "      <td>NaN</td>\n",
       "      <td>NaN</td>\n",
       "      <td>0.399612</td>\n",
       "      <td>0.556092</td>\n",
       "      <td>2.834115e+05</td>\n",
       "      <td>0.554682</td>\n",
       "      <td>0.280521</td>\n",
       "      <td>5.138732</td>\n",
       "      <td>0.191559</td>\n",
       "      <td>-10.738530</td>\n",
       "      <td>0.588028</td>\n",
       "      <td>0.082647</td>\n",
       "      <td>116.857767</td>\n",
       "      <td>3.890845</td>\n",
       "      <td>0.398186</td>\n",
       "      <td>NaN</td>\n",
       "    </tr>\n",
       "    <tr>\n",
       "      <th>std</th>\n",
       "      <td>NaN</td>\n",
       "      <td>NaN</td>\n",
       "      <td>NaN</td>\n",
       "      <td>NaN</td>\n",
       "      <td>0.381397</td>\n",
       "      <td>0.189472</td>\n",
       "      <td>3.371891e+05</td>\n",
       "      <td>0.294056</td>\n",
       "      <td>0.392521</td>\n",
       "      <td>3.565522</td>\n",
       "      <td>0.165740</td>\n",
       "      <td>7.986422</td>\n",
       "      <td>0.492363</td>\n",
       "      <td>0.082892</td>\n",
       "      <td>27.948877</td>\n",
       "      <td>0.483761</td>\n",
       "      <td>0.258262</td>\n",
       "      <td>NaN</td>\n",
       "    </tr>\n",
       "    <tr>\n",
       "      <th>min</th>\n",
       "      <td>NaN</td>\n",
       "      <td>NaN</td>\n",
       "      <td>NaN</td>\n",
       "      <td>NaN</td>\n",
       "      <td>0.000023</td>\n",
       "      <td>0.058500</td>\n",
       "      <td>5.433300e+04</td>\n",
       "      <td>0.001540</td>\n",
       "      <td>0.000000</td>\n",
       "      <td>0.000000</td>\n",
       "      <td>0.022700</td>\n",
       "      <td>-41.808000</td>\n",
       "      <td>0.000000</td>\n",
       "      <td>0.022900</td>\n",
       "      <td>52.799000</td>\n",
       "      <td>1.000000</td>\n",
       "      <td>0.000010</td>\n",
       "      <td>NaN</td>\n",
       "    </tr>\n",
       "    <tr>\n",
       "      <th>25%</th>\n",
       "      <td>NaN</td>\n",
       "      <td>NaN</td>\n",
       "      <td>NaN</td>\n",
       "      <td>NaN</td>\n",
       "      <td>0.031525</td>\n",
       "      <td>0.447750</td>\n",
       "      <td>1.961372e+05</td>\n",
       "      <td>0.317750</td>\n",
       "      <td>0.000001</td>\n",
       "      <td>2.000000</td>\n",
       "      <td>0.096675</td>\n",
       "      <td>-14.406000</td>\n",
       "      <td>0.000000</td>\n",
       "      <td>0.037000</td>\n",
       "      <td>95.055250</td>\n",
       "      <td>4.000000</td>\n",
       "      <td>0.186750</td>\n",
       "      <td>NaN</td>\n",
       "    </tr>\n",
       "    <tr>\n",
       "      <th>50%</th>\n",
       "      <td>NaN</td>\n",
       "      <td>NaN</td>\n",
       "      <td>NaN</td>\n",
       "      <td>NaN</td>\n",
       "      <td>0.265000</td>\n",
       "      <td>0.588000</td>\n",
       "      <td>2.268000e+05</td>\n",
       "      <td>0.596500</td>\n",
       "      <td>0.002075</td>\n",
       "      <td>5.000000</td>\n",
       "      <td>0.121000</td>\n",
       "      <td>-7.811000</td>\n",
       "      <td>1.000000</td>\n",
       "      <td>0.048750</td>\n",
       "      <td>118.016500</td>\n",
       "      <td>4.000000</td>\n",
       "      <td>0.364500</td>\n",
       "      <td>NaN</td>\n",
       "    </tr>\n",
       "    <tr>\n",
       "      <th>75%</th>\n",
       "      <td>NaN</td>\n",
       "      <td>NaN</td>\n",
       "      <td>NaN</td>\n",
       "      <td>NaN</td>\n",
       "      <td>0.815000</td>\n",
       "      <td>0.691000</td>\n",
       "      <td>2.745168e+05</td>\n",
       "      <td>0.801000</td>\n",
       "      <td>0.795500</td>\n",
       "      <td>8.000000</td>\n",
       "      <td>0.231250</td>\n",
       "      <td>-5.034500</td>\n",
       "      <td>1.000000</td>\n",
       "      <td>0.081425</td>\n",
       "      <td>131.499500</td>\n",
       "      <td>4.000000</td>\n",
       "      <td>0.588000</td>\n",
       "      <td>NaN</td>\n",
       "    </tr>\n",
       "    <tr>\n",
       "      <th>max</th>\n",
       "      <td>NaN</td>\n",
       "      <td>NaN</td>\n",
       "      <td>NaN</td>\n",
       "      <td>NaN</td>\n",
       "      <td>0.996000</td>\n",
       "      <td>0.967000</td>\n",
       "      <td>4.500037e+06</td>\n",
       "      <td>1.000000</td>\n",
       "      <td>0.996000</td>\n",
       "      <td>11.000000</td>\n",
       "      <td>0.979000</td>\n",
       "      <td>-0.750000</td>\n",
       "      <td>1.000000</td>\n",
       "      <td>0.520000</td>\n",
       "      <td>213.973000</td>\n",
       "      <td>5.000000</td>\n",
       "      <td>0.974000</td>\n",
       "      <td>NaN</td>\n",
       "    </tr>\n",
       "  </tbody>\n",
       "</table>\n",
       "</div>"
      ],
      "text/plain": [
       "                            id          name  \\\n",
       "count                     1420          1420   \n",
       "unique                    1420          1378   \n",
       "top     0HrrWZIJ7hR7C0JmDZ2uvN  The Greatest   \n",
       "freq                         1             3   \n",
       "mean                       NaN           NaN   \n",
       "std                        NaN           NaN   \n",
       "min                        NaN           NaN   \n",
       "25%                        NaN           NaN   \n",
       "50%                        NaN           NaN   \n",
       "75%                        NaN           NaN   \n",
       "max                        NaN           NaN   \n",
       "\n",
       "                                         uri           artist  acousticness  \\\n",
       "count                                   1420             1420   1420.000000   \n",
       "unique                                  1420             1160           NaN   \n",
       "top     spotify:track:5AdFDzY5KY8RehHWVL0010  Nature Sounds,            NaN   \n",
       "freq                                       1               12           NaN   \n",
       "mean                                     NaN              NaN      0.399612   \n",
       "std                                      NaN              NaN      0.381397   \n",
       "min                                      NaN              NaN      0.000023   \n",
       "25%                                      NaN              NaN      0.031525   \n",
       "50%                                      NaN              NaN      0.265000   \n",
       "75%                                      NaN              NaN      0.815000   \n",
       "max                                      NaN              NaN      0.996000   \n",
       "\n",
       "        danceability   duration_ms       energy  instrumentalness  \\\n",
       "count    1420.000000  1.420000e+03  1420.000000       1420.000000   \n",
       "unique           NaN           NaN          NaN               NaN   \n",
       "top              NaN           NaN          NaN               NaN   \n",
       "freq             NaN           NaN          NaN               NaN   \n",
       "mean        0.556092  2.834115e+05     0.554682          0.280521   \n",
       "std         0.189472  3.371891e+05     0.294056          0.392521   \n",
       "min         0.058500  5.433300e+04     0.001540          0.000000   \n",
       "25%         0.447750  1.961372e+05     0.317750          0.000001   \n",
       "50%         0.588000  2.268000e+05     0.596500          0.002075   \n",
       "75%         0.691000  2.745168e+05     0.801000          0.795500   \n",
       "max         0.967000  4.500037e+06     1.000000          0.996000   \n",
       "\n",
       "                key     liveness     loudness         mode  speechiness  \\\n",
       "count   1420.000000  1420.000000  1420.000000  1420.000000  1420.000000   \n",
       "unique          NaN          NaN          NaN          NaN          NaN   \n",
       "top             NaN          NaN          NaN          NaN          NaN   \n",
       "freq            NaN          NaN          NaN          NaN          NaN   \n",
       "mean       5.138732     0.191559   -10.738530     0.588028     0.082647   \n",
       "std        3.565522     0.165740     7.986422     0.492363     0.082892   \n",
       "min        0.000000     0.022700   -41.808000     0.000000     0.022900   \n",
       "25%        2.000000     0.096675   -14.406000     0.000000     0.037000   \n",
       "50%        5.000000     0.121000    -7.811000     1.000000     0.048750   \n",
       "75%        8.000000     0.231250    -5.034500     1.000000     0.081425   \n",
       "max       11.000000     0.979000    -0.750000     1.000000     0.520000   \n",
       "\n",
       "              tempo  time_signature      valence mood(s)  \n",
       "count   1420.000000     1420.000000  1420.000000    1420  \n",
       "unique          NaN             NaN          NaN       7  \n",
       "top             NaN             NaN          NaN  dinner  \n",
       "freq            NaN             NaN          NaN     467  \n",
       "mean     116.857767        3.890845     0.398186     NaN  \n",
       "std       27.948877        0.483761     0.258262     NaN  \n",
       "min       52.799000        1.000000     0.000010     NaN  \n",
       "25%       95.055250        4.000000     0.186750     NaN  \n",
       "50%      118.016500        4.000000     0.364500     NaN  \n",
       "75%      131.499500        4.000000     0.588000     NaN  \n",
       "max      213.973000        5.000000     0.974000     NaN  "
      ]
     },
     "execution_count": 106,
     "metadata": {},
     "output_type": "execute_result"
    }
   ],
   "source": [
    "spotify_df.describe(include=\"all\")"
   ]
  },
  {
   "cell_type": "markdown",
   "metadata": {},
   "source": [
    "### getting rid of the missing values."
   ]
  },
  {
   "cell_type": "code",
   "execution_count": 107,
   "metadata": {
    "collapsed": true
   },
   "outputs": [],
   "source": [
    "spotify_df.dropna(axis=0, inplace=True)"
   ]
  },
  {
   "cell_type": "markdown",
   "metadata": {},
   "source": [
    "### Performing Data Normalization to rescale numeric values"
   ]
  },
  {
   "cell_type": "markdown",
   "metadata": {},
   "source": [
    "#### Selecting only the numerical values"
   ]
  },
  {
   "cell_type": "code",
   "execution_count": 111,
   "metadata": {
    "collapsed": true
   },
   "outputs": [],
   "source": [
    "spotify_df_mainfeatures = spotify_df[['acousticness','danceability','duration_ms','energy',\n",
    "                                      'instrumentalness','key','liveness', 'loudness','mode',\n",
    "                                      'speechiness','tempo','time_signature','valence']]"
   ]
  },
  {
   "cell_type": "markdown",
   "metadata": {},
   "source": [
    "### normalized the data using the normalize() function."
   ]
  },
  {
   "cell_type": "code",
   "execution_count": 112,
   "metadata": {
    "collapsed": true
   },
   "outputs": [],
   "source": [
    "normalized_data = normalize(spotify_df_mainfeatures)"
   ]
  },
  {
   "cell_type": "markdown",
   "metadata": {},
   "source": [
    "## Let's pick a song and see the top K similar songs to it!"
   ]
  },
  {
   "cell_type": "code",
   "execution_count": null,
   "metadata": {
    "collapsed": true
   },
   "outputs": [],
   "source": []
  },
  {
   "cell_type": "markdown",
   "metadata": {},
   "source": [
    "### Look in the data, choose a song and write the song id here"
   ]
  },
  {
   "cell_type": "code",
   "execution_count": null,
   "metadata": {
    "collapsed": true
   },
   "outputs": [],
   "source": []
  },
  {
   "cell_type": "markdown",
   "metadata": {},
   "source": [
    "### How many similar songs to this song do you want?"
   ]
  },
  {
   "cell_type": "code",
   "execution_count": 115,
   "metadata": {
    "collapsed": true
   },
   "outputs": [],
   "source": [
    "K_nearest_neighbors = 5"
   ]
  },
  {
   "cell_type": "markdown",
   "metadata": {},
   "source": [
    "### The search function takes a music id, and searches for the K most similar items in the data. The function returns the indices of the K most similar neighbors and a list of their distances to the query object."
   ]
  },
  {
   "cell_type": "code",
   "execution_count": 116,
   "metadata": {
    "collapsed": true
   },
   "outputs": [],
   "source": [
    "song_id = \n",
    "nearest_neighbor_indices = knn_search(song_id=song_id, data=normalized_data, K=K_nearest_neighbors)"
   ]
  },
  {
   "cell_type": "markdown",
   "metadata": {},
   "source": [
    "### What do these songs have in common? Let's look at their features."
   ]
  },
  {
   "cell_type": "code",
   "execution_count": null,
   "metadata": {
    "collapsed": true
   },
   "outputs": [],
   "source": []
  },
  {
   "cell_type": "markdown",
   "metadata": {},
   "source": [
    "### Create a wordcloud based on their features and feature values"
   ]
  },
  {
   "cell_type": "code",
   "execution_count": null,
   "metadata": {
    "collapsed": true
   },
   "outputs": [],
   "source": []
  }
 ],
 "metadata": {
  "kernelspec": {
   "display_name": "Python 2",
   "language": "python",
   "name": "python2"
  },
  "language_info": {
   "codemirror_mode": {
    "name": "ipython",
    "version": 2
   },
   "file_extension": ".py",
   "mimetype": "text/x-python",
   "name": "python",
   "nbconvert_exporter": "python",
   "pygments_lexer": "ipython2",
   "version": "2.7.13"
  }
 },
 "nbformat": 4,
 "nbformat_minor": 2
}
