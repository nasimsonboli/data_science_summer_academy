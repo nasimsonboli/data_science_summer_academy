{
 "cells": [
  {
   "cell_type": "code",
   "execution_count": 2,
   "metadata": {
    "collapsed": true
   },
   "outputs": [],
   "source": [
    "import numpy as np\n",
    "import pandas as pd"
   ]
  },
  {
   "cell_type": "code",
   "execution_count": 3,
   "metadata": {
    "collapsed": true
   },
   "outputs": [],
   "source": [
    "np.set_printoptions(suppress=True, precision=2, linewidth=120)\n",
    "np.warnings.filterwarnings('ignore')"
   ]
  },
  {
   "cell_type": "code",
   "execution_count": 4,
   "metadata": {
    "collapsed": true
   },
   "outputs": [],
   "source": [
    "def toMatrix(df):\n",
    "    return df[df.columns[4:-1]].as_matrix()"
   ]
  },
  {
   "cell_type": "code",
   "execution_count": 5,
   "metadata": {
    "collapsed": true
   },
   "outputs": [],
   "source": [
    "def showClusterContent(kmeans, df, cluster_index):\n",
    "    return df.iloc[np.where(kmeans.labels_ == cluster_index)[0], 1:].head(10)"
   ]
  },
  {
   "cell_type": "code",
   "execution_count": 6,
   "metadata": {
    "collapsed": true
   },
   "outputs": [],
   "source": [
    "def showCentroids(kmeans, df):\n",
    "    # centroids = np.hstack((np.atleast_2d(range(cluster_n)).T, kmeans.cluster_centers_))\n",
    "    pd.set_option('precision', 6)\n",
    "    df = pd.DataFrame(kmeans.cluster_centers_, columns=spotify_df.columns[4:-1].tolist())\n",
    "    df.index.names = ['Clusters']\n",
    "    return df.T"
   ]
  },
  {
   "cell_type": "code",
   "execution_count": 9,
   "metadata": {
    "collapsed": true
   },
   "outputs": [],
   "source": [
    "from sklearn.metrics.pairwise import euclidean_distances\n",
    "from IPython.core import display as ICD\n",
    "\n",
    "def top_k_similar(kmeans, sp_df, records, cluster_n, top_k):\n",
    "    all_dists = euclidean_distances(kmeans.cluster_centers_, records)\n",
    "    for cluster in range(cluster_n):\n",
    "        top_k_sim = np.argsort(all_dists[cluster])[::-1][:top_k]\n",
    "        print ('Top Records for Cluster %d:' % cluster)\n",
    "        ICD.display(sp_df.iloc[top_k_sim, [1,2,3,-1]])\n",
    "        print ('='*100)\n",
    "        print ('\\n\\n')"
   ]
  },
  {
   "cell_type": "code",
   "execution_count": 24,
   "metadata": {
    "collapsed": true
   },
   "outputs": [],
   "source": [
    "def show_word_clouds(kmeans, spotify_df, centroids_df, cluster_n):\n",
    "    import urllib, cStringIO\n",
    "    from PIL import Image\n",
    "    import matplotlib.pyplot as plt\n",
    "\n",
    "    from wordcloud import WordCloud, ImageColorGenerator\n",
    "\n",
    "    features = spotify_df.columns[4:-1].tolist()\n",
    "    centroids_df = centroids_df.T\n",
    "\n",
    "    for cluster_index in range(cluster_n):\n",
    "        words = {}\n",
    "        for i in range(len(features)):\n",
    "            words[features[i]] = centroids_df.iloc[cluster_index].tolist()[i]*5\n",
    "\n",
    "        # counting the mood and ADDING MOOD to the WordCloud\n",
    "        mood_n_artist_freq = spotify_df.iloc[np.where(kmeans.labels_ == cluster_index)[0], [3,-1]]\n",
    "        # print(mood_n_artist_freq['mood(s)'])\n",
    "\n",
    "        for mood in spotify_df['mood(s)'].unique().tolist():\n",
    "            count = mood_n_artist_freq['mood(s)'].tolist().count(mood)\n",
    "            words[mood] = count/10\n",
    "\n",
    "        # ADDING Artist Names to the WordCloud -----------------------------\n",
    "        for artist in spotify_df['artist'].unique().tolist():\n",
    "            count = mood_n_artist_freq['artist'].tolist().count(artist)\n",
    "            words[artist] = count\n",
    "        # ------------------------------------------------------------------\n",
    "\n",
    "        file = cStringIO.StringIO(urllib.urlopen(\"http://bmobasher.com/Class/cloud2.jpg\").read())\n",
    "        img = Image.open(file)\n",
    "   \n",
    "        alice_coloring = np.array(img)\n",
    "\n",
    "        wc = WordCloud(background_color=\"white\", max_words=200, mask=alice_coloring, max_font_size=55, random_state=42)\n",
    "        # generate word cloud\n",
    "        wc.generate_from_frequencies(words)\n",
    "\n",
    "        # create coloring from image\n",
    "        image_colors = ImageColorGenerator(alice_coloring)\n",
    "\n",
    "        print ('Cluster %d:' % cluster_index)\n",
    "        fig = plt.figure(1)\n",
    "        fig.set_figwidth(15)\n",
    "        fig.set_figheight(9)\n",
    "        plt.imshow(wc, interpolation=\"bilinear\")\n",
    "        plt.axis('off')\n",
    "        plt.show()\n",
    "        fig.savefig(\"wordcloud_cluster_%d.png\" % cluster_index, dpi=100)\n",
    "        print('='*100)"
   ]
  },
  {
   "cell_type": "code",
   "execution_count": 2,
   "metadata": {
    "collapsed": true
   },
   "outputs": [],
   "source": [
    "def normalize_spotify(df):\n",
    "    scaler = MinMaxScaler() \n",
    "    scaled_values = scaler.fit_transform(df[df.columns[4:-1]]) \n",
    "    return scaled_values"
   ]
  },
  {
   "cell_type": "code",
   "execution_count": null,
   "metadata": {
    "collapsed": true
   },
   "outputs": [],
   "source": []
  }
 ],
 "metadata": {
  "kernelspec": {
   "display_name": "Python 2",
   "language": "python",
   "name": "python2"
  },
  "language_info": {
   "codemirror_mode": {
    "name": "ipython",
    "version": 2
   },
   "file_extension": ".py",
   "mimetype": "text/x-python",
   "name": "python",
   "nbconvert_exporter": "python",
   "pygments_lexer": "ipython2",
   "version": "2.7.13"
  }
 },
 "nbformat": 4,
 "nbformat_minor": 2
}
