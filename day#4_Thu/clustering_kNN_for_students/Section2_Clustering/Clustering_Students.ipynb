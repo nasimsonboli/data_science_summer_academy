{
 "cells": [
  {
   "cell_type": "markdown",
   "metadata": {},
   "source": [
    "## Clustering similar songs using features extracted from Spotify Web API"
   ]
  },
  {
   "cell_type": "markdown",
   "metadata": {},
   "source": [
    "## Import required packages"
   ]
  },
  {
   "cell_type": "code",
   "execution_count": 1,
   "metadata": {
    "collapsed": true
   },
   "outputs": [],
   "source": [
    "import numpy as np\n",
    "import pandas as pd\n",
    "%run Clustering.ipynb"
   ]
  },
  {
   "cell_type": "markdown",
   "metadata": {},
   "source": [
    "Dinner: Songs that sound good when played in a dinner setting or at a restaurant.\n",
    "\n",
    "Sleep: Songs that promote sleep when they are played.\n",
    "\n",
    "Party: Songs that sound good when played at a party.\n",
    "\n",
    "Workout: Songs that sound good when one is exercising/ working out."
   ]
  },
  {
   "cell_type": "markdown",
   "metadata": {},
   "source": [
    "## The definition of each feature can be found in the following link:\n",
    "\n",
    "https://developer.spotify.com/documentation/web-api/reference/tracks/get-audio-features/"
   ]
  },
  {
   "cell_type": "markdown",
   "metadata": {},
   "source": [
    "# Read Data from csv file into a DataFrame."
   ]
  },
  {
   "cell_type": "code",
   "execution_count": 2,
   "metadata": {
    "collapsed": true
   },
   "outputs": [],
   "source": [
    "# Spotift DataFrame\n",
    "spotify_df = pd.read_csv('http://bmobasher.com/Class/Spotify_Combined.csv', index_col=0)"
   ]
  },
  {
   "cell_type": "markdown",
   "metadata": {},
   "source": [
    "# Check whether all of the features are available for all the records in the dataset.\n",
    "## Are there any records or rows with Null values?"
   ]
  },
  {
   "cell_type": "code",
   "execution_count": 3,
   "metadata": {},
   "outputs": [
    {
     "data": {
      "text/html": [
       "<div>\n",
       "<style scoped>\n",
       "    .dataframe tbody tr th:only-of-type {\n",
       "        vertical-align: middle;\n",
       "    }\n",
       "\n",
       "    .dataframe tbody tr th {\n",
       "        vertical-align: top;\n",
       "    }\n",
       "\n",
       "    .dataframe thead th {\n",
       "        text-align: right;\n",
       "    }\n",
       "</style>\n",
       "<table border=\"1\" class=\"dataframe\">\n",
       "  <thead>\n",
       "    <tr style=\"text-align: right;\">\n",
       "      <th></th>\n",
       "      <th>id</th>\n",
       "      <th>name</th>\n",
       "      <th>uri</th>\n",
       "      <th>artist</th>\n",
       "      <th>acousticness</th>\n",
       "      <th>danceability</th>\n",
       "      <th>duration_ms</th>\n",
       "      <th>energy</th>\n",
       "      <th>instrumentalness</th>\n",
       "      <th>key</th>\n",
       "      <th>liveness</th>\n",
       "      <th>loudness</th>\n",
       "      <th>mode</th>\n",
       "      <th>speechiness</th>\n",
       "      <th>tempo</th>\n",
       "      <th>time_signature</th>\n",
       "      <th>valence</th>\n",
       "      <th>mood(s)</th>\n",
       "    </tr>\n",
       "    <tr>\n",
       "      <th>index</th>\n",
       "      <th></th>\n",
       "      <th></th>\n",
       "      <th></th>\n",
       "      <th></th>\n",
       "      <th></th>\n",
       "      <th></th>\n",
       "      <th></th>\n",
       "      <th></th>\n",
       "      <th></th>\n",
       "      <th></th>\n",
       "      <th></th>\n",
       "      <th></th>\n",
       "      <th></th>\n",
       "      <th></th>\n",
       "      <th></th>\n",
       "      <th></th>\n",
       "      <th></th>\n",
       "      <th></th>\n",
       "    </tr>\n",
       "  </thead>\n",
       "  <tbody>\n",
       "  </tbody>\n",
       "</table>\n",
       "</div>"
      ],
      "text/plain": [
       "Empty DataFrame\n",
       "Columns: [id, name, uri, artist, acousticness, danceability, duration_ms, energy, instrumentalness, key, liveness, loudness, mode, speechiness, tempo, time_signature, valence, mood(s)]\n",
       "Index: []"
      ]
     },
     "execution_count": 3,
     "metadata": {},
     "output_type": "execute_result"
    }
   ],
   "source": [
    "spotify_df[spotify_df.isnull().any(axis=1)]"
   ]
  },
  {
   "cell_type": "markdown",
   "metadata": {},
   "source": [
    "# Remove missing values from the dataframe, if there are any."
   ]
  },
  {
   "cell_type": "code",
   "execution_count": 4,
   "metadata": {
    "collapsed": true,
    "scrolled": true
   },
   "outputs": [],
   "source": [
    "spotify_df = spotify_df.dropna()"
   ]
  },
  {
   "cell_type": "markdown",
   "metadata": {},
   "source": [
    "# Show a sample of data frame"
   ]
  },
  {
   "cell_type": "code",
   "execution_count": 5,
   "metadata": {},
   "outputs": [
    {
     "data": {
      "text/html": [
       "<div>\n",
       "<style scoped>\n",
       "    .dataframe tbody tr th:only-of-type {\n",
       "        vertical-align: middle;\n",
       "    }\n",
       "\n",
       "    .dataframe tbody tr th {\n",
       "        vertical-align: top;\n",
       "    }\n",
       "\n",
       "    .dataframe thead th {\n",
       "        text-align: right;\n",
       "    }\n",
       "</style>\n",
       "<table border=\"1\" class=\"dataframe\">\n",
       "  <thead>\n",
       "    <tr style=\"text-align: right;\">\n",
       "      <th></th>\n",
       "      <th>id</th>\n",
       "      <th>name</th>\n",
       "      <th>uri</th>\n",
       "      <th>artist</th>\n",
       "      <th>acousticness</th>\n",
       "      <th>danceability</th>\n",
       "      <th>duration_ms</th>\n",
       "      <th>energy</th>\n",
       "      <th>instrumentalness</th>\n",
       "      <th>key</th>\n",
       "      <th>liveness</th>\n",
       "      <th>loudness</th>\n",
       "      <th>mode</th>\n",
       "      <th>speechiness</th>\n",
       "      <th>tempo</th>\n",
       "      <th>time_signature</th>\n",
       "      <th>valence</th>\n",
       "      <th>mood(s)</th>\n",
       "    </tr>\n",
       "    <tr>\n",
       "      <th>index</th>\n",
       "      <th></th>\n",
       "      <th></th>\n",
       "      <th></th>\n",
       "      <th></th>\n",
       "      <th></th>\n",
       "      <th></th>\n",
       "      <th></th>\n",
       "      <th></th>\n",
       "      <th></th>\n",
       "      <th></th>\n",
       "      <th></th>\n",
       "      <th></th>\n",
       "      <th></th>\n",
       "      <th></th>\n",
       "      <th></th>\n",
       "      <th></th>\n",
       "      <th></th>\n",
       "      <th></th>\n",
       "    </tr>\n",
       "  </thead>\n",
       "  <tbody>\n",
       "    <tr>\n",
       "      <th>0</th>\n",
       "      <td>4dn6rw5Ze1uWrLm1uOk1gu</td>\n",
       "      <td>Stockholm Sweetnin'</td>\n",
       "      <td>spotify:track:4dn6rw5Ze1uWrLm1uOk1gu</td>\n",
       "      <td>Scott Hamilton, Jesper Lundgaard, Jan Lundgren...</td>\n",
       "      <td>0.838</td>\n",
       "      <td>0.602</td>\n",
       "      <td>475680</td>\n",
       "      <td>0.302</td>\n",
       "      <td>0.9070</td>\n",
       "      <td>8</td>\n",
       "      <td>0.1130</td>\n",
       "      <td>-11.627</td>\n",
       "      <td>1</td>\n",
       "      <td>0.0427</td>\n",
       "      <td>119.758</td>\n",
       "      <td>4</td>\n",
       "      <td>0.300</td>\n",
       "      <td>dinner</td>\n",
       "    </tr>\n",
       "    <tr>\n",
       "      <th>1</th>\n",
       "      <td>6CDQBADsdzJwc3qZ3OPDHH</td>\n",
       "      <td>Almost Like Being in Love</td>\n",
       "      <td>spotify:track:6CDQBADsdzJwc3qZ3OPDHH</td>\n",
       "      <td>Red Garland, Paul Chambers, Art Taylor,</td>\n",
       "      <td>0.873</td>\n",
       "      <td>0.571</td>\n",
       "      <td>290293</td>\n",
       "      <td>0.346</td>\n",
       "      <td>0.5190</td>\n",
       "      <td>0</td>\n",
       "      <td>0.0980</td>\n",
       "      <td>-12.569</td>\n",
       "      <td>0</td>\n",
       "      <td>0.0409</td>\n",
       "      <td>93.885</td>\n",
       "      <td>4</td>\n",
       "      <td>0.687</td>\n",
       "      <td>dinner</td>\n",
       "    </tr>\n",
       "    <tr>\n",
       "      <th>2</th>\n",
       "      <td>00CIFNT8kOm61dupysBFp8</td>\n",
       "      <td>Garden of Delight</td>\n",
       "      <td>spotify:track:00CIFNT8kOm61dupysBFp8</td>\n",
       "      <td>Jan Lundgren Trio,</td>\n",
       "      <td>0.876</td>\n",
       "      <td>0.427</td>\n",
       "      <td>291862</td>\n",
       "      <td>0.287</td>\n",
       "      <td>0.8740</td>\n",
       "      <td>11</td>\n",
       "      <td>0.1330</td>\n",
       "      <td>-19.834</td>\n",
       "      <td>1</td>\n",
       "      <td>0.0346</td>\n",
       "      <td>104.407</td>\n",
       "      <td>4</td>\n",
       "      <td>0.467</td>\n",
       "      <td>dinner</td>\n",
       "    </tr>\n",
       "    <tr>\n",
       "      <th>3</th>\n",
       "      <td>2z6D5bIA9Wprdqi1B8nnVh</td>\n",
       "      <td>New Orleans</td>\n",
       "      <td>spotify:track:2z6D5bIA9Wprdqi1B8nnVh</td>\n",
       "      <td>Wynton Marsalis,</td>\n",
       "      <td>0.714</td>\n",
       "      <td>0.644</td>\n",
       "      <td>340693</td>\n",
       "      <td>0.205</td>\n",
       "      <td>0.0482</td>\n",
       "      <td>10</td>\n",
       "      <td>0.0510</td>\n",
       "      <td>-16.005</td>\n",
       "      <td>1</td>\n",
       "      <td>0.0397</td>\n",
       "      <td>118.314</td>\n",
       "      <td>4</td>\n",
       "      <td>0.411</td>\n",
       "      <td>dinner</td>\n",
       "    </tr>\n",
       "    <tr>\n",
       "      <th>4</th>\n",
       "      <td>1ykNjOQbYJgZE3pflVB9MN</td>\n",
       "      <td>The Sequel</td>\n",
       "      <td>spotify:track:1ykNjOQbYJgZE3pflVB9MN</td>\n",
       "      <td>Wingspan,</td>\n",
       "      <td>0.703</td>\n",
       "      <td>0.532</td>\n",
       "      <td>482360</td>\n",
       "      <td>0.364</td>\n",
       "      <td>0.6180</td>\n",
       "      <td>9</td>\n",
       "      <td>0.0602</td>\n",
       "      <td>-13.068</td>\n",
       "      <td>0</td>\n",
       "      <td>0.0297</td>\n",
       "      <td>127.166</td>\n",
       "      <td>4</td>\n",
       "      <td>0.271</td>\n",
       "      <td>dinner</td>\n",
       "    </tr>\n",
       "  </tbody>\n",
       "</table>\n",
       "</div>"
      ],
      "text/plain": [
       "                           id                       name  \\\n",
       "index                                                      \n",
       "0      4dn6rw5Ze1uWrLm1uOk1gu        Stockholm Sweetnin'   \n",
       "1      6CDQBADsdzJwc3qZ3OPDHH  Almost Like Being in Love   \n",
       "2      00CIFNT8kOm61dupysBFp8          Garden of Delight   \n",
       "3      2z6D5bIA9Wprdqi1B8nnVh                New Orleans   \n",
       "4      1ykNjOQbYJgZE3pflVB9MN                 The Sequel   \n",
       "\n",
       "                                        uri  \\\n",
       "index                                         \n",
       "0      spotify:track:4dn6rw5Ze1uWrLm1uOk1gu   \n",
       "1      spotify:track:6CDQBADsdzJwc3qZ3OPDHH   \n",
       "2      spotify:track:00CIFNT8kOm61dupysBFp8   \n",
       "3      spotify:track:2z6D5bIA9Wprdqi1B8nnVh   \n",
       "4      spotify:track:1ykNjOQbYJgZE3pflVB9MN   \n",
       "\n",
       "                                                  artist  acousticness  \\\n",
       "index                                                                    \n",
       "0      Scott Hamilton, Jesper Lundgaard, Jan Lundgren...         0.838   \n",
       "1               Red Garland, Paul Chambers, Art Taylor,          0.873   \n",
       "2                                    Jan Lundgren Trio,          0.876   \n",
       "3                                      Wynton Marsalis,          0.714   \n",
       "4                                             Wingspan,          0.703   \n",
       "\n",
       "       danceability  duration_ms  energy  instrumentalness  key  liveness  \\\n",
       "index                                                                       \n",
       "0             0.602       475680   0.302            0.9070    8    0.1130   \n",
       "1             0.571       290293   0.346            0.5190    0    0.0980   \n",
       "2             0.427       291862   0.287            0.8740   11    0.1330   \n",
       "3             0.644       340693   0.205            0.0482   10    0.0510   \n",
       "4             0.532       482360   0.364            0.6180    9    0.0602   \n",
       "\n",
       "       loudness  mode  speechiness    tempo  time_signature  valence mood(s)  \n",
       "index                                                                         \n",
       "0       -11.627     1       0.0427  119.758               4    0.300  dinner  \n",
       "1       -12.569     0       0.0409   93.885               4    0.687  dinner  \n",
       "2       -19.834     1       0.0346  104.407               4    0.467  dinner  \n",
       "3       -16.005     1       0.0397  118.314               4    0.411  dinner  \n",
       "4       -13.068     0       0.0297  127.166               4    0.271  dinner  "
      ]
     },
     "execution_count": 5,
     "metadata": {},
     "output_type": "execute_result"
    }
   ],
   "source": [
    "spotify_df.head()"
   ]
  },
  {
   "cell_type": "markdown",
   "metadata": {},
   "source": [
    "# Statistical properties of the dataset"
   ]
  },
  {
   "cell_type": "code",
   "execution_count": 6,
   "metadata": {},
   "outputs": [
    {
     "data": {
      "text/html": [
       "<style  type=\"text/css\" >\n",
       "</style>  \n",
       "<table id=\"T_ec81a082_7a91_11e8_af19_720004ea1250\" > \n",
       "<thead>    <tr> \n",
       "        <th class=\"blank level0\" ></th> \n",
       "        <th class=\"col_heading level0 col0\" >count</th> \n",
       "        <th class=\"col_heading level0 col1\" >mean</th> \n",
       "        <th class=\"col_heading level0 col2\" >std</th> \n",
       "        <th class=\"col_heading level0 col3\" >min</th> \n",
       "        <th class=\"col_heading level0 col4\" >25%</th> \n",
       "        <th class=\"col_heading level0 col5\" >50%</th> \n",
       "        <th class=\"col_heading level0 col6\" >75%</th> \n",
       "        <th class=\"col_heading level0 col7\" >max</th> \n",
       "    </tr></thead> \n",
       "<tbody>    <tr> \n",
       "        <th id=\"T_ec81a082_7a91_11e8_af19_720004ea1250level0_row0\" class=\"row_heading level0 row0\" >acousticness</th> \n",
       "        <td id=\"T_ec81a082_7a91_11e8_af19_720004ea1250row0_col0\" class=\"data row0 col0\" >1420</td> \n",
       "        <td id=\"T_ec81a082_7a91_11e8_af19_720004ea1250row0_col1\" class=\"data row0 col1\" >0.3996</td> \n",
       "        <td id=\"T_ec81a082_7a91_11e8_af19_720004ea1250row0_col2\" class=\"data row0 col2\" >0.3814</td> \n",
       "        <td id=\"T_ec81a082_7a91_11e8_af19_720004ea1250row0_col3\" class=\"data row0 col3\" >2.28e-05</td> \n",
       "        <td id=\"T_ec81a082_7a91_11e8_af19_720004ea1250row0_col4\" class=\"data row0 col4\" >0.03153</td> \n",
       "        <td id=\"T_ec81a082_7a91_11e8_af19_720004ea1250row0_col5\" class=\"data row0 col5\" >0.265</td> \n",
       "        <td id=\"T_ec81a082_7a91_11e8_af19_720004ea1250row0_col6\" class=\"data row0 col6\" >0.815</td> \n",
       "        <td id=\"T_ec81a082_7a91_11e8_af19_720004ea1250row0_col7\" class=\"data row0 col7\" >0.996</td> \n",
       "    </tr>    <tr> \n",
       "        <th id=\"T_ec81a082_7a91_11e8_af19_720004ea1250level0_row1\" class=\"row_heading level0 row1\" >danceability</th> \n",
       "        <td id=\"T_ec81a082_7a91_11e8_af19_720004ea1250row1_col0\" class=\"data row1 col0\" >1420</td> \n",
       "        <td id=\"T_ec81a082_7a91_11e8_af19_720004ea1250row1_col1\" class=\"data row1 col1\" >0.5561</td> \n",
       "        <td id=\"T_ec81a082_7a91_11e8_af19_720004ea1250row1_col2\" class=\"data row1 col2\" >0.1895</td> \n",
       "        <td id=\"T_ec81a082_7a91_11e8_af19_720004ea1250row1_col3\" class=\"data row1 col3\" >0.0585</td> \n",
       "        <td id=\"T_ec81a082_7a91_11e8_af19_720004ea1250row1_col4\" class=\"data row1 col4\" >0.4477</td> \n",
       "        <td id=\"T_ec81a082_7a91_11e8_af19_720004ea1250row1_col5\" class=\"data row1 col5\" >0.588</td> \n",
       "        <td id=\"T_ec81a082_7a91_11e8_af19_720004ea1250row1_col6\" class=\"data row1 col6\" >0.691</td> \n",
       "        <td id=\"T_ec81a082_7a91_11e8_af19_720004ea1250row1_col7\" class=\"data row1 col7\" >0.967</td> \n",
       "    </tr>    <tr> \n",
       "        <th id=\"T_ec81a082_7a91_11e8_af19_720004ea1250level0_row2\" class=\"row_heading level0 row2\" >duration_ms</th> \n",
       "        <td id=\"T_ec81a082_7a91_11e8_af19_720004ea1250row2_col0\" class=\"data row2 col0\" >1420</td> \n",
       "        <td id=\"T_ec81a082_7a91_11e8_af19_720004ea1250row2_col1\" class=\"data row2 col1\" >2.834e+05</td> \n",
       "        <td id=\"T_ec81a082_7a91_11e8_af19_720004ea1250row2_col2\" class=\"data row2 col2\" >3.372e+05</td> \n",
       "        <td id=\"T_ec81a082_7a91_11e8_af19_720004ea1250row2_col3\" class=\"data row2 col3\" >5.433e+04</td> \n",
       "        <td id=\"T_ec81a082_7a91_11e8_af19_720004ea1250row2_col4\" class=\"data row2 col4\" >1.961e+05</td> \n",
       "        <td id=\"T_ec81a082_7a91_11e8_af19_720004ea1250row2_col5\" class=\"data row2 col5\" >2.268e+05</td> \n",
       "        <td id=\"T_ec81a082_7a91_11e8_af19_720004ea1250row2_col6\" class=\"data row2 col6\" >2.745e+05</td> \n",
       "        <td id=\"T_ec81a082_7a91_11e8_af19_720004ea1250row2_col7\" class=\"data row2 col7\" >4.5e+06</td> \n",
       "    </tr>    <tr> \n",
       "        <th id=\"T_ec81a082_7a91_11e8_af19_720004ea1250level0_row3\" class=\"row_heading level0 row3\" >energy</th> \n",
       "        <td id=\"T_ec81a082_7a91_11e8_af19_720004ea1250row3_col0\" class=\"data row3 col0\" >1420</td> \n",
       "        <td id=\"T_ec81a082_7a91_11e8_af19_720004ea1250row3_col1\" class=\"data row3 col1\" >0.5547</td> \n",
       "        <td id=\"T_ec81a082_7a91_11e8_af19_720004ea1250row3_col2\" class=\"data row3 col2\" >0.2941</td> \n",
       "        <td id=\"T_ec81a082_7a91_11e8_af19_720004ea1250row3_col3\" class=\"data row3 col3\" >0.00154</td> \n",
       "        <td id=\"T_ec81a082_7a91_11e8_af19_720004ea1250row3_col4\" class=\"data row3 col4\" >0.3177</td> \n",
       "        <td id=\"T_ec81a082_7a91_11e8_af19_720004ea1250row3_col5\" class=\"data row3 col5\" >0.5965</td> \n",
       "        <td id=\"T_ec81a082_7a91_11e8_af19_720004ea1250row3_col6\" class=\"data row3 col6\" >0.801</td> \n",
       "        <td id=\"T_ec81a082_7a91_11e8_af19_720004ea1250row3_col7\" class=\"data row3 col7\" >1</td> \n",
       "    </tr>    <tr> \n",
       "        <th id=\"T_ec81a082_7a91_11e8_af19_720004ea1250level0_row4\" class=\"row_heading level0 row4\" >instrumentalness</th> \n",
       "        <td id=\"T_ec81a082_7a91_11e8_af19_720004ea1250row4_col0\" class=\"data row4 col0\" >1420</td> \n",
       "        <td id=\"T_ec81a082_7a91_11e8_af19_720004ea1250row4_col1\" class=\"data row4 col1\" >0.2805</td> \n",
       "        <td id=\"T_ec81a082_7a91_11e8_af19_720004ea1250row4_col2\" class=\"data row4 col2\" >0.3925</td> \n",
       "        <td id=\"T_ec81a082_7a91_11e8_af19_720004ea1250row4_col3\" class=\"data row4 col3\" >0</td> \n",
       "        <td id=\"T_ec81a082_7a91_11e8_af19_720004ea1250row4_col4\" class=\"data row4 col4\" >1.048e-06</td> \n",
       "        <td id=\"T_ec81a082_7a91_11e8_af19_720004ea1250row4_col5\" class=\"data row4 col5\" >0.002075</td> \n",
       "        <td id=\"T_ec81a082_7a91_11e8_af19_720004ea1250row4_col6\" class=\"data row4 col6\" >0.7955</td> \n",
       "        <td id=\"T_ec81a082_7a91_11e8_af19_720004ea1250row4_col7\" class=\"data row4 col7\" >0.996</td> \n",
       "    </tr>    <tr> \n",
       "        <th id=\"T_ec81a082_7a91_11e8_af19_720004ea1250level0_row5\" class=\"row_heading level0 row5\" >key</th> \n",
       "        <td id=\"T_ec81a082_7a91_11e8_af19_720004ea1250row5_col0\" class=\"data row5 col0\" >1420</td> \n",
       "        <td id=\"T_ec81a082_7a91_11e8_af19_720004ea1250row5_col1\" class=\"data row5 col1\" >5.139</td> \n",
       "        <td id=\"T_ec81a082_7a91_11e8_af19_720004ea1250row5_col2\" class=\"data row5 col2\" >3.566</td> \n",
       "        <td id=\"T_ec81a082_7a91_11e8_af19_720004ea1250row5_col3\" class=\"data row5 col3\" >0</td> \n",
       "        <td id=\"T_ec81a082_7a91_11e8_af19_720004ea1250row5_col4\" class=\"data row5 col4\" >2</td> \n",
       "        <td id=\"T_ec81a082_7a91_11e8_af19_720004ea1250row5_col5\" class=\"data row5 col5\" >5</td> \n",
       "        <td id=\"T_ec81a082_7a91_11e8_af19_720004ea1250row5_col6\" class=\"data row5 col6\" >8</td> \n",
       "        <td id=\"T_ec81a082_7a91_11e8_af19_720004ea1250row5_col7\" class=\"data row5 col7\" >11</td> \n",
       "    </tr>    <tr> \n",
       "        <th id=\"T_ec81a082_7a91_11e8_af19_720004ea1250level0_row6\" class=\"row_heading level0 row6\" >liveness</th> \n",
       "        <td id=\"T_ec81a082_7a91_11e8_af19_720004ea1250row6_col0\" class=\"data row6 col0\" >1420</td> \n",
       "        <td id=\"T_ec81a082_7a91_11e8_af19_720004ea1250row6_col1\" class=\"data row6 col1\" >0.1916</td> \n",
       "        <td id=\"T_ec81a082_7a91_11e8_af19_720004ea1250row6_col2\" class=\"data row6 col2\" >0.1657</td> \n",
       "        <td id=\"T_ec81a082_7a91_11e8_af19_720004ea1250row6_col3\" class=\"data row6 col3\" >0.0227</td> \n",
       "        <td id=\"T_ec81a082_7a91_11e8_af19_720004ea1250row6_col4\" class=\"data row6 col4\" >0.09667</td> \n",
       "        <td id=\"T_ec81a082_7a91_11e8_af19_720004ea1250row6_col5\" class=\"data row6 col5\" >0.121</td> \n",
       "        <td id=\"T_ec81a082_7a91_11e8_af19_720004ea1250row6_col6\" class=\"data row6 col6\" >0.2313</td> \n",
       "        <td id=\"T_ec81a082_7a91_11e8_af19_720004ea1250row6_col7\" class=\"data row6 col7\" >0.979</td> \n",
       "    </tr>    <tr> \n",
       "        <th id=\"T_ec81a082_7a91_11e8_af19_720004ea1250level0_row7\" class=\"row_heading level0 row7\" >loudness</th> \n",
       "        <td id=\"T_ec81a082_7a91_11e8_af19_720004ea1250row7_col0\" class=\"data row7 col0\" >1420</td> \n",
       "        <td id=\"T_ec81a082_7a91_11e8_af19_720004ea1250row7_col1\" class=\"data row7 col1\" >-10.74</td> \n",
       "        <td id=\"T_ec81a082_7a91_11e8_af19_720004ea1250row7_col2\" class=\"data row7 col2\" >7.986</td> \n",
       "        <td id=\"T_ec81a082_7a91_11e8_af19_720004ea1250row7_col3\" class=\"data row7 col3\" >-41.81</td> \n",
       "        <td id=\"T_ec81a082_7a91_11e8_af19_720004ea1250row7_col4\" class=\"data row7 col4\" >-14.41</td> \n",
       "        <td id=\"T_ec81a082_7a91_11e8_af19_720004ea1250row7_col5\" class=\"data row7 col5\" >-7.811</td> \n",
       "        <td id=\"T_ec81a082_7a91_11e8_af19_720004ea1250row7_col6\" class=\"data row7 col6\" >-5.035</td> \n",
       "        <td id=\"T_ec81a082_7a91_11e8_af19_720004ea1250row7_col7\" class=\"data row7 col7\" >-0.75</td> \n",
       "    </tr>    <tr> \n",
       "        <th id=\"T_ec81a082_7a91_11e8_af19_720004ea1250level0_row8\" class=\"row_heading level0 row8\" >mode</th> \n",
       "        <td id=\"T_ec81a082_7a91_11e8_af19_720004ea1250row8_col0\" class=\"data row8 col0\" >1420</td> \n",
       "        <td id=\"T_ec81a082_7a91_11e8_af19_720004ea1250row8_col1\" class=\"data row8 col1\" >0.588</td> \n",
       "        <td id=\"T_ec81a082_7a91_11e8_af19_720004ea1250row8_col2\" class=\"data row8 col2\" >0.4924</td> \n",
       "        <td id=\"T_ec81a082_7a91_11e8_af19_720004ea1250row8_col3\" class=\"data row8 col3\" >0</td> \n",
       "        <td id=\"T_ec81a082_7a91_11e8_af19_720004ea1250row8_col4\" class=\"data row8 col4\" >0</td> \n",
       "        <td id=\"T_ec81a082_7a91_11e8_af19_720004ea1250row8_col5\" class=\"data row8 col5\" >1</td> \n",
       "        <td id=\"T_ec81a082_7a91_11e8_af19_720004ea1250row8_col6\" class=\"data row8 col6\" >1</td> \n",
       "        <td id=\"T_ec81a082_7a91_11e8_af19_720004ea1250row8_col7\" class=\"data row8 col7\" >1</td> \n",
       "    </tr>    <tr> \n",
       "        <th id=\"T_ec81a082_7a91_11e8_af19_720004ea1250level0_row9\" class=\"row_heading level0 row9\" >speechiness</th> \n",
       "        <td id=\"T_ec81a082_7a91_11e8_af19_720004ea1250row9_col0\" class=\"data row9 col0\" >1420</td> \n",
       "        <td id=\"T_ec81a082_7a91_11e8_af19_720004ea1250row9_col1\" class=\"data row9 col1\" >0.08265</td> \n",
       "        <td id=\"T_ec81a082_7a91_11e8_af19_720004ea1250row9_col2\" class=\"data row9 col2\" >0.08289</td> \n",
       "        <td id=\"T_ec81a082_7a91_11e8_af19_720004ea1250row9_col3\" class=\"data row9 col3\" >0.0229</td> \n",
       "        <td id=\"T_ec81a082_7a91_11e8_af19_720004ea1250row9_col4\" class=\"data row9 col4\" >0.037</td> \n",
       "        <td id=\"T_ec81a082_7a91_11e8_af19_720004ea1250row9_col5\" class=\"data row9 col5\" >0.04875</td> \n",
       "        <td id=\"T_ec81a082_7a91_11e8_af19_720004ea1250row9_col6\" class=\"data row9 col6\" >0.08142</td> \n",
       "        <td id=\"T_ec81a082_7a91_11e8_af19_720004ea1250row9_col7\" class=\"data row9 col7\" >0.52</td> \n",
       "    </tr>    <tr> \n",
       "        <th id=\"T_ec81a082_7a91_11e8_af19_720004ea1250level0_row10\" class=\"row_heading level0 row10\" >tempo</th> \n",
       "        <td id=\"T_ec81a082_7a91_11e8_af19_720004ea1250row10_col0\" class=\"data row10 col0\" >1420</td> \n",
       "        <td id=\"T_ec81a082_7a91_11e8_af19_720004ea1250row10_col1\" class=\"data row10 col1\" >116.9</td> \n",
       "        <td id=\"T_ec81a082_7a91_11e8_af19_720004ea1250row10_col2\" class=\"data row10 col2\" >27.95</td> \n",
       "        <td id=\"T_ec81a082_7a91_11e8_af19_720004ea1250row10_col3\" class=\"data row10 col3\" >52.8</td> \n",
       "        <td id=\"T_ec81a082_7a91_11e8_af19_720004ea1250row10_col4\" class=\"data row10 col4\" >95.06</td> \n",
       "        <td id=\"T_ec81a082_7a91_11e8_af19_720004ea1250row10_col5\" class=\"data row10 col5\" >118</td> \n",
       "        <td id=\"T_ec81a082_7a91_11e8_af19_720004ea1250row10_col6\" class=\"data row10 col6\" >131.5</td> \n",
       "        <td id=\"T_ec81a082_7a91_11e8_af19_720004ea1250row10_col7\" class=\"data row10 col7\" >214</td> \n",
       "    </tr>    <tr> \n",
       "        <th id=\"T_ec81a082_7a91_11e8_af19_720004ea1250level0_row11\" class=\"row_heading level0 row11\" >time_signature</th> \n",
       "        <td id=\"T_ec81a082_7a91_11e8_af19_720004ea1250row11_col0\" class=\"data row11 col0\" >1420</td> \n",
       "        <td id=\"T_ec81a082_7a91_11e8_af19_720004ea1250row11_col1\" class=\"data row11 col1\" >3.891</td> \n",
       "        <td id=\"T_ec81a082_7a91_11e8_af19_720004ea1250row11_col2\" class=\"data row11 col2\" >0.4838</td> \n",
       "        <td id=\"T_ec81a082_7a91_11e8_af19_720004ea1250row11_col3\" class=\"data row11 col3\" >1</td> \n",
       "        <td id=\"T_ec81a082_7a91_11e8_af19_720004ea1250row11_col4\" class=\"data row11 col4\" >4</td> \n",
       "        <td id=\"T_ec81a082_7a91_11e8_af19_720004ea1250row11_col5\" class=\"data row11 col5\" >4</td> \n",
       "        <td id=\"T_ec81a082_7a91_11e8_af19_720004ea1250row11_col6\" class=\"data row11 col6\" >4</td> \n",
       "        <td id=\"T_ec81a082_7a91_11e8_af19_720004ea1250row11_col7\" class=\"data row11 col7\" >5</td> \n",
       "    </tr>    <tr> \n",
       "        <th id=\"T_ec81a082_7a91_11e8_af19_720004ea1250level0_row12\" class=\"row_heading level0 row12\" >valence</th> \n",
       "        <td id=\"T_ec81a082_7a91_11e8_af19_720004ea1250row12_col0\" class=\"data row12 col0\" >1420</td> \n",
       "        <td id=\"T_ec81a082_7a91_11e8_af19_720004ea1250row12_col1\" class=\"data row12 col1\" >0.3982</td> \n",
       "        <td id=\"T_ec81a082_7a91_11e8_af19_720004ea1250row12_col2\" class=\"data row12 col2\" >0.2583</td> \n",
       "        <td id=\"T_ec81a082_7a91_11e8_af19_720004ea1250row12_col3\" class=\"data row12 col3\" >1e-05</td> \n",
       "        <td id=\"T_ec81a082_7a91_11e8_af19_720004ea1250row12_col4\" class=\"data row12 col4\" >0.1867</td> \n",
       "        <td id=\"T_ec81a082_7a91_11e8_af19_720004ea1250row12_col5\" class=\"data row12 col5\" >0.3645</td> \n",
       "        <td id=\"T_ec81a082_7a91_11e8_af19_720004ea1250row12_col6\" class=\"data row12 col6\" >0.588</td> \n",
       "        <td id=\"T_ec81a082_7a91_11e8_af19_720004ea1250row12_col7\" class=\"data row12 col7\" >0.974</td> \n",
       "    </tr></tbody> \n",
       "</table> "
      ],
      "text/plain": [
       "<pandas.io.formats.style.Styler at 0x117561d10>"
      ]
     },
     "execution_count": 6,
     "metadata": {},
     "output_type": "execute_result"
    }
   ],
   "source": [
    "pd.set_option('precision', 4)\n",
    "spotify_df.describe().T.style"
   ]
  },
  {
   "cell_type": "markdown",
   "metadata": {},
   "source": [
    "# List all the features in the data frame"
   ]
  },
  {
   "cell_type": "code",
   "execution_count": null,
   "metadata": {},
   "outputs": [],
   "source": []
  },
  {
   "cell_type": "markdown",
   "metadata": {},
   "source": [
    "## List the data types of each feature"
   ]
  },
  {
   "cell_type": "code",
   "execution_count": null,
   "metadata": {},
   "outputs": [],
   "source": []
  },
  {
   "cell_type": "markdown",
   "metadata": {},
   "source": [
    "# Normalizing the features in range of [0,1]"
   ]
  },
  {
   "cell_type": "code",
   "execution_count": 1,
   "metadata": {
    "collapsed": true
   },
   "outputs": [],
   "source": [
    "# import the package\n",
    "from sklearn.preprocessing import MinMaxScaler"
   ]
  },
  {
   "cell_type": "code",
   "execution_count": null,
   "metadata": {
    "collapsed": true
   },
   "outputs": [],
   "source": []
  },
  {
   "cell_type": "markdown",
   "metadata": {},
   "source": [
    "# Show the normalized sample of data"
   ]
  },
  {
   "cell_type": "code",
   "execution_count": null,
   "metadata": {},
   "outputs": [],
   "source": []
  },
  {
   "cell_type": "markdown",
   "metadata": {},
   "source": [
    "# Now we use KMeans algorithm from scikit-learn to perform the clustering."
   ]
  },
  {
   "cell_type": "markdown",
   "metadata": {},
   "source": [
    "## import the KMeans clustering package"
   ]
  },
  {
   "cell_type": "code",
   "execution_count": 11,
   "metadata": {
    "collapsed": true
   },
   "outputs": [],
   "source": [
    "from sklearn.cluster import KMeans"
   ]
  },
  {
   "cell_type": "markdown",
   "metadata": {},
   "source": [
    "## Specify the number of clusters"
   ]
  },
  {
   "cell_type": "code",
   "execution_count": 12,
   "metadata": {
    "collapsed": true
   },
   "outputs": [],
   "source": [
    "# should be less than 15\n",
    "cluster_n = "
   ]
  },
  {
   "cell_type": "markdown",
   "metadata": {},
   "source": [
    "## Run the KMeans algorithm"
   ]
  },
  {
   "cell_type": "code",
   "execution_count": 4,
   "metadata": {},
   "outputs": [],
   "source": [
    "kmeans = KMeans(n_clusters=cluster_n, max_iter=900)\n",
    "\n",
    "kmeans.fit(toMatrix())"
   ]
  },
  {
   "cell_type": "markdown",
   "metadata": {},
   "source": [
    "# Contents of each cluster"
   ]
  },
  {
   "cell_type": "markdown",
   "metadata": {},
   "source": [
    "## Specify the index of cluster which you'd like to view its records."
   ]
  },
  {
   "cell_type": "code",
   "execution_count": 5,
   "metadata": {},
   "outputs": [],
   "source": [
    "cluster_index = "
   ]
  },
  {
   "cell_type": "markdown",
   "metadata": {},
   "source": [
    "# Show each cluster's centroid."
   ]
  },
  {
   "cell_type": "code",
   "execution_count": null,
   "metadata": {},
   "outputs": [],
   "source": []
  },
  {
   "cell_type": "markdown",
   "metadata": {},
   "source": [
    "# Top-k Similar Songs to each cluster."
   ]
  },
  {
   "cell_type": "code",
   "execution_count": 6,
   "metadata": {
    "scrolled": false
   },
   "outputs": [],
   "source": [
    "top_k = "
   ]
  },
  {
   "cell_type": "markdown",
   "metadata": {},
   "source": [
    "## For each Cluster show its word-cloud using the weights of the centroid and also the frequency of artists in that cluster."
   ]
  },
  {
   "cell_type": "code",
   "execution_count": null,
   "metadata": {
    "scrolled": false
   },
   "outputs": [],
   "source": []
  }
 ],
 "metadata": {
  "kernelspec": {
   "display_name": "Python 2",
   "language": "python",
   "name": "python2"
  },
  "language_info": {
   "codemirror_mode": {
    "name": "ipython",
    "version": 2
   },
   "file_extension": ".py",
   "mimetype": "text/x-python",
   "name": "python",
   "nbconvert_exporter": "python",
   "pygments_lexer": "ipython2",
   "version": "2.7.13"
  }
 },
 "nbformat": 4,
 "nbformat_minor": 2
}
